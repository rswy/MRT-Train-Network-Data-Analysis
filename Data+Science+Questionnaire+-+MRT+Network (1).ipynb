{
 "cells": [
  {
   "cell_type": "markdown",
   "metadata": {
    "collapsed": true
   },
   "source": [
    "# DATA SCIENCE QUESTIONNAIRE\n",
    "\n",
    "\n",
    "## * Q1: What is the underlying MRT network according to the dataset provided? You should derive the network using only the dataset provided, without referring to other resources, such as the MRT network in Singapore from SMRT, Wiki, Datamall, etc.\n",
    "\n",
    "## * Q2: Given an origin and destination station pair (say Station A and Station B), how many trains travelled from Station A to Station B in the given dataset?\n",
    "\n",
    "## * Q3: Suppose a commuter wants to board a train at Clementi Station at 9:25am and alight at Kallang Station. Can you determine the number of people in the train at every station along the path from Clementi to Kallang starting from 9:25am?\n",
    "\n",
    " \n"
   ]
  },
  {
   "cell_type": "code",
   "execution_count": 649,
   "metadata": {
    "collapsed": true
   },
   "outputs": [],
   "source": [
    "import numpy as np # linear algebra\n",
    "import pandas as pd # data processing, CSV file I/O (e.g. pd.read_csv)\n",
    "from datetime import datetime\n",
    "import matplotlib.pyplot as plt\n",
    "import seaborn as sns\n",
    "\n",
    "%matplotlib inline"
   ]
  },
  {
   "cell_type": "code",
   "execution_count": 650,
   "metadata": {
    "collapsed": true
   },
   "outputs": [],
   "source": [
    "# get_ipython().magic(u'matplotlib inline')"
   ]
  },
  {
   "cell_type": "code",
   "execution_count": 651,
   "metadata": {
    "collapsed": true
   },
   "outputs": [],
   "source": [
    "df = pd.read_csv('mrt_trips_sampled.csv')"
   ]
  },
  {
   "cell_type": "markdown",
   "metadata": {},
   "source": [
    "# Data Exploration"
   ]
  },
  {
   "cell_type": "code",
   "execution_count": 652,
   "metadata": {
    "collapsed": false
   },
   "outputs": [
    {
     "data": {
      "text/html": [
       "<div>\n",
       "<table border=\"1\" class=\"dataframe\">\n",
       "  <thead>\n",
       "    <tr style=\"text-align: right;\">\n",
       "      <th></th>\n",
       "      <th>index</th>\n",
       "    </tr>\n",
       "  </thead>\n",
       "  <tbody>\n",
       "    <tr>\n",
       "      <th>count</th>\n",
       "      <td>381249.000000</td>\n",
       "    </tr>\n",
       "    <tr>\n",
       "      <th>mean</th>\n",
       "      <td>190624.000000</td>\n",
       "    </tr>\n",
       "    <tr>\n",
       "      <th>std</th>\n",
       "      <td>110057.250727</td>\n",
       "    </tr>\n",
       "    <tr>\n",
       "      <th>min</th>\n",
       "      <td>0.000000</td>\n",
       "    </tr>\n",
       "    <tr>\n",
       "      <th>25%</th>\n",
       "      <td>95312.000000</td>\n",
       "    </tr>\n",
       "    <tr>\n",
       "      <th>50%</th>\n",
       "      <td>190624.000000</td>\n",
       "    </tr>\n",
       "    <tr>\n",
       "      <th>75%</th>\n",
       "      <td>285936.000000</td>\n",
       "    </tr>\n",
       "    <tr>\n",
       "      <th>max</th>\n",
       "      <td>381248.000000</td>\n",
       "    </tr>\n",
       "  </tbody>\n",
       "</table>\n",
       "</div>"
      ],
      "text/plain": [
       "               index\n",
       "count  381249.000000\n",
       "mean   190624.000000\n",
       "std    110057.250727\n",
       "min         0.000000\n",
       "25%     95312.000000\n",
       "50%    190624.000000\n",
       "75%    285936.000000\n",
       "max    381248.000000"
      ]
     },
     "execution_count": 652,
     "metadata": {},
     "output_type": "execute_result"
    }
   ],
   "source": [
    "df.describe()"
   ]
  },
  {
   "cell_type": "code",
   "execution_count": 653,
   "metadata": {
    "collapsed": false
   },
   "outputs": [
    {
     "data": {
      "text/plain": [
       "381249"
      ]
     },
     "execution_count": 653,
     "metadata": {},
     "output_type": "execute_result"
    }
   ],
   "source": [
    "# To check if there is any duplicates in index. Maybe there are recurring commuters\n",
    "len(df.index.unique())"
   ]
  },
  {
   "cell_type": "code",
   "execution_count": 654,
   "metadata": {
    "collapsed": false
   },
   "outputs": [
    {
     "data": {
      "text/html": [
       "<div>\n",
       "<table border=\"1\" class=\"dataframe\">\n",
       "  <thead>\n",
       "    <tr style=\"text-align: right;\">\n",
       "      <th></th>\n",
       "      <th>destination</th>\n",
       "      <th>destination_tm</th>\n",
       "      <th>origin</th>\n",
       "      <th>origin_tm</th>\n",
       "    </tr>\n",
       "  </thead>\n",
       "  <tbody>\n",
       "    <tr>\n",
       "      <th>count</th>\n",
       "      <td>381249</td>\n",
       "      <td>381249</td>\n",
       "      <td>381249</td>\n",
       "      <td>381249</td>\n",
       "    </tr>\n",
       "    <tr>\n",
       "      <th>unique</th>\n",
       "      <td>153</td>\n",
       "      <td>7002</td>\n",
       "      <td>154</td>\n",
       "      <td>3600</td>\n",
       "    </tr>\n",
       "    <tr>\n",
       "      <th>top</th>\n",
       "      <td>Raffles Place</td>\n",
       "      <td>09:45:29</td>\n",
       "      <td>Ang Mo Kio</td>\n",
       "      <td>09:03:51</td>\n",
       "    </tr>\n",
       "    <tr>\n",
       "      <th>freq</th>\n",
       "      <td>22938</td>\n",
       "      <td>189</td>\n",
       "      <td>11898</td>\n",
       "      <td>213</td>\n",
       "    </tr>\n",
       "  </tbody>\n",
       "</table>\n",
       "</div>"
      ],
      "text/plain": [
       "          destination destination_tm      origin origin_tm\n",
       "count          381249         381249      381249    381249\n",
       "unique            153           7002         154      3600\n",
       "top     Raffles Place       09:45:29  Ang Mo Kio  09:03:51\n",
       "freq            22938            189       11898       213"
      ]
     },
     "execution_count": 654,
     "metadata": {},
     "output_type": "execute_result"
    }
   ],
   "source": [
    "df.describe(include=['object'])"
   ]
  },
  {
   "cell_type": "code",
   "execution_count": 655,
   "metadata": {
    "collapsed": false
   },
   "outputs": [
    {
     "data": {
      "text/plain": [
       "index             0\n",
       "destination       0\n",
       "destination_tm    0\n",
       "origin            0\n",
       "origin_tm         0\n",
       "dtype: int64"
      ]
     },
     "execution_count": 655,
     "metadata": {},
     "output_type": "execute_result"
    }
   ],
   "source": [
    "df.isnull().sum()"
   ]
  },
  {
   "cell_type": "code",
   "execution_count": 656,
   "metadata": {
    "collapsed": false
   },
   "outputs": [
    {
     "data": {
      "text/html": [
       "<div>\n",
       "<table border=\"1\" class=\"dataframe\">\n",
       "  <thead>\n",
       "    <tr style=\"text-align: right;\">\n",
       "      <th></th>\n",
       "      <th>index</th>\n",
       "      <th>destination</th>\n",
       "      <th>destination_tm</th>\n",
       "      <th>origin</th>\n",
       "      <th>origin_tm</th>\n",
       "    </tr>\n",
       "  </thead>\n",
       "  <tbody>\n",
       "    <tr>\n",
       "      <th>0</th>\n",
       "      <td>0</td>\n",
       "      <td>Bugis DTL</td>\n",
       "      <td>10:04:47</td>\n",
       "      <td>Stevens</td>\n",
       "      <td>09:52:23</td>\n",
       "    </tr>\n",
       "    <tr>\n",
       "      <th>1</th>\n",
       "      <td>1</td>\n",
       "      <td>Kent Ridge</td>\n",
       "      <td>10:11:34</td>\n",
       "      <td>Sengkang</td>\n",
       "      <td>09:27:41</td>\n",
       "    </tr>\n",
       "    <tr>\n",
       "      <th>2</th>\n",
       "      <td>2</td>\n",
       "      <td>Tai Seng</td>\n",
       "      <td>09:35:59</td>\n",
       "      <td>Compassvale</td>\n",
       "      <td>09:03:44</td>\n",
       "    </tr>\n",
       "    <tr>\n",
       "      <th>3</th>\n",
       "      <td>3</td>\n",
       "      <td>Labrador Park</td>\n",
       "      <td>09:45:50</td>\n",
       "      <td>Bishan NSEW</td>\n",
       "      <td>09:14:45</td>\n",
       "    </tr>\n",
       "    <tr>\n",
       "      <th>4</th>\n",
       "      <td>4</td>\n",
       "      <td>Joo Koon</td>\n",
       "      <td>09:27:32</td>\n",
       "      <td>Boon Lay</td>\n",
       "      <td>09:20:36</td>\n",
       "    </tr>\n",
       "  </tbody>\n",
       "</table>\n",
       "</div>"
      ],
      "text/plain": [
       "   index    destination destination_tm       origin origin_tm\n",
       "0      0      Bugis DTL       10:04:47      Stevens  09:52:23\n",
       "1      1     Kent Ridge       10:11:34     Sengkang  09:27:41\n",
       "2      2       Tai Seng       09:35:59  Compassvale  09:03:44\n",
       "3      3  Labrador Park       09:45:50  Bishan NSEW  09:14:45\n",
       "4      4       Joo Koon       09:27:32     Boon Lay  09:20:36"
      ]
     },
     "execution_count": 656,
     "metadata": {},
     "output_type": "execute_result"
    }
   ],
   "source": [
    "df.head()"
   ]
  },
  {
   "cell_type": "code",
   "execution_count": 657,
   "metadata": {
    "collapsed": false
   },
   "outputs": [
    {
     "data": {
      "text/html": [
       "<div>\n",
       "<table border=\"1\" class=\"dataframe\">\n",
       "  <thead>\n",
       "    <tr style=\"text-align: right;\">\n",
       "      <th></th>\n",
       "      <th>index</th>\n",
       "      <th>destination</th>\n",
       "      <th>destination_tm</th>\n",
       "      <th>origin</th>\n",
       "      <th>origin_tm</th>\n",
       "    </tr>\n",
       "  </thead>\n",
       "  <tbody>\n",
       "    <tr>\n",
       "      <th>381244</th>\n",
       "      <td>381244</td>\n",
       "      <td>Promenade</td>\n",
       "      <td>09:48:19</td>\n",
       "      <td>Kembangan</td>\n",
       "      <td>09:21:28</td>\n",
       "    </tr>\n",
       "    <tr>\n",
       "      <th>381245</th>\n",
       "      <td>381245</td>\n",
       "      <td>Bugis NSEW</td>\n",
       "      <td>10:09:30</td>\n",
       "      <td>Bedok</td>\n",
       "      <td>09:52:13</td>\n",
       "    </tr>\n",
       "    <tr>\n",
       "      <th>381246</th>\n",
       "      <td>381246</td>\n",
       "      <td>HarbourFront NEL</td>\n",
       "      <td>09:51:34</td>\n",
       "      <td>Punggol</td>\n",
       "      <td>09:11:46</td>\n",
       "    </tr>\n",
       "    <tr>\n",
       "      <th>381247</th>\n",
       "      <td>381247</td>\n",
       "      <td>one-north</td>\n",
       "      <td>10:14:05</td>\n",
       "      <td>Raffles Place</td>\n",
       "      <td>09:50:38</td>\n",
       "    </tr>\n",
       "    <tr>\n",
       "      <th>381248</th>\n",
       "      <td>381248</td>\n",
       "      <td>Orchard</td>\n",
       "      <td>09:40:20</td>\n",
       "      <td>Kovan</td>\n",
       "      <td>09:11:41</td>\n",
       "    </tr>\n",
       "  </tbody>\n",
       "</table>\n",
       "</div>"
      ],
      "text/plain": [
       "         index       destination destination_tm         origin origin_tm\n",
       "381244  381244         Promenade       09:48:19      Kembangan  09:21:28\n",
       "381245  381245        Bugis NSEW       10:09:30          Bedok  09:52:13\n",
       "381246  381246  HarbourFront NEL       09:51:34        Punggol  09:11:46\n",
       "381247  381247         one-north       10:14:05  Raffles Place  09:50:38\n",
       "381248  381248           Orchard       09:40:20          Kovan  09:11:41"
      ]
     },
     "execution_count": 657,
     "metadata": {},
     "output_type": "execute_result"
    }
   ],
   "source": [
    "df.tail()"
   ]
  },
  {
   "cell_type": "code",
   "execution_count": 658,
   "metadata": {
    "collapsed": true
   },
   "outputs": [],
   "source": [
    "# Find the most popular destination\n",
    "# Find the most popular origin\n",
    "# Find the most popular time of taking the mrt\n",
    "# Find the average time people spend at mrt\n",
    "\n",
    "# Find the detours that people make (to graph how many passengers in a station at a certain timing)"
   ]
  },
  {
   "cell_type": "code",
   "execution_count": 659,
   "metadata": {
    "collapsed": false
   },
   "outputs": [
    {
     "data": {
      "text/plain": [
       "<matplotlib.axes._subplots.AxesSubplot at 0x1f072277e80>"
      ]
     },
     "execution_count": 659,
     "metadata": {},
     "output_type": "execute_result"
    },
    {
     "data": {
      "image/png": "[encoded data removed]",
      "text/plain": [
       "<matplotlib.figure.Figure at 0x1f072242d68>"
      ]
     },
     "metadata": {},
     "output_type": "display_data"
    }
   ],
   "source": [
    "# Find the most visited destination\n",
    "\n",
    "df.destination.value_counts().head().plot(kind='bar')\n",
    "\n",
    "\n"
   ]
  },
  {
   "cell_type": "code",
   "execution_count": 660,
   "metadata": {
    "collapsed": false,
    "scrolled": true
   },
   "outputs": [
    {
     "data": {
      "text/plain": [
       "<matplotlib.axes._subplots.AxesSubplot at 0x1f07223f780>"
      ]
     },
     "execution_count": 660,
     "metadata": {},
     "output_type": "execute_result"
    },
    {
     "data": {
      "image/png": "[encoded data removed]",
      "text/plain": [
       "<matplotlib.figure.Figure at 0x1f06ec51e80>"
      ]
     },
     "metadata": {},
     "output_type": "display_data"
    }
   ],
   "source": [
    "# Find the most visited origin \n",
    "\n",
    "df.origin.value_counts().head().plot(kind='bar')"
   ]
  },
  {
   "cell_type": "code",
   "execution_count": 661,
   "metadata": {
    "collapsed": true
   },
   "outputs": [],
   "source": [
    "from datetime import timedelta\n",
    "\n",
    "# df['timeperiod'] = timedelta(df['destination_tm'].str) - timedelta(df['origin_tm'].str)\n",
    "df['timeperiod'] = pd.to_timedelta(df['destination_tm']) - pd.to_timedelta(df['origin_tm'])\n",
    "\n"
   ]
  },
  {
   "cell_type": "code",
   "execution_count": 713,
   "metadata": {
    "collapsed": true
   },
   "outputs": [],
   "source": [
    "# Change the timeperiod to minute values\n",
    "\n",
    "df['timeminutetaken'] = df['timeperiod'] / pd.Timedelta('1 minute')\n",
    "\n"
   ]
  },
  {
   "cell_type": "markdown",
   "metadata": {},
   "source": [
    "#  Removing of any oddities / abnormalities in the data\n",
    "\n",
    "### 1. Remove edges where Destination = Origin\n",
    "### 2. Remove edges where time period is below 1 minute (we assume that it takes at least one minute to tap in and tap out from different station)\n",
    "### 3. Time period after 2 hours (we assume that it takes max 2 hours longest to travel in the smrt train. If more , then wit will be in case of breakdowns)\n"
   ]
  },
  {
   "cell_type": "code",
   "execution_count": 714,
   "metadata": {
    "collapsed": false
   },
   "outputs": [],
   "source": [
    "\n",
    "samedestination =  df.destination==df.origin\n",
    "timeperiodbelowone = df.timeminutetaken <1\n",
    "timeperiodabove120 = df.timeminutetaken >120"
   ]
  },
  {
   "cell_type": "code",
   "execution_count": 715,
   "metadata": {
    "collapsed": false
   },
   "outputs": [
    {
     "name": "stdout",
     "output_type": "stream",
     "text": [
      "2031\n",
      "636\n",
      "381\n"
     ]
    }
   ],
   "source": [
    "print(samedestination.sum())\n",
    "print(timeperiodbelowone.sum())\n",
    "print(timeperiodabove120.sum())\n"
   ]
  },
  {
   "cell_type": "code",
   "execution_count": 716,
   "metadata": {
    "collapsed": false
   },
   "outputs": [
    {
     "data": {
      "text/plain": [
       "2651187"
      ]
     },
     "execution_count": 716,
     "metadata": {},
     "output_type": "execute_result"
    }
   ],
   "source": [
    "\n",
    "dfclean = df.loc[~samedestination&~timeperiodbelowone&~timeperiodabove120,:]\n",
    "dfclean.size\n",
    "\n",
    "  \n",
    "# ## Use dfclean and filtered same stations destinations (Dhoby Ghaut NSEW etc)"
   ]
  },
  {
   "cell_type": "code",
   "execution_count": 717,
   "metadata": {
    "collapsed": false
   },
   "outputs": [
    {
     "name": "stderr",
     "output_type": "stream",
     "text": [
      "C:\\Users\\Ranon Sim\\Anaconda3\\lib\\site-packages\\pandas\\core\\indexing.py:465: SettingWithCopyWarning: \n",
      "A value is trying to be set on a copy of a slice from a DataFrame.\n",
      "Try using .loc[row_indexer,col_indexer] = value instead\n",
      "\n",
      "See the caveats in the documentation: http://pandas.pydata.org/pandas-docs/stable/indexing.html#indexing-view-versus-copy\n",
      "  self.obj[item] = s\n"
     ]
    }
   ],
   "source": [
    "\n",
    "# Eliminating all second words in this list\n",
    "findingcapitallettersdestination = dfclean.destination.str.contains(r'(?<![A-Z])[A-Z]{3,}(?![A-Z])')\n",
    "dfclean.loc[findingcapitallettersdestination,'destination']= [x[0] for x in dfclean.loc[findingcapitallettersdestination,:].destination.str.rsplit(' ',1)]\n",
    "\n",
    "findingcapitallettersorigin = dfclean.origin.str.contains(r'(?<![A-Z])[A-Z]{3,}(?![A-Z])')\n",
    "dfclean.loc[findingcapitallettersorigin,'origin']= [x[0] for x in dfclean.loc[findingcapitallettersorigin,:].origin.str.rsplit(' ',1)]\n",
    "\n",
    "\n",
    "# ## use the dfclean to find central and noncentral origin"
   ]
  },
  {
   "cell_type": "code",
   "execution_count": 718,
   "metadata": {
    "collapsed": false,
    "scrolled": true
   },
   "outputs": [
    {
     "data": {
      "text/plain": [
       "origin\n",
       "Downtown       12.358642\n",
       "Newton         12.760173\n",
       "Telok Ayer     12.960539\n",
       "Dhoby Ghaut    13.724121\n",
       "Pending        14.194484\n",
       "Name: timeminutetaken, dtype: float64"
      ]
     },
     "execution_count": 718,
     "metadata": {},
     "output_type": "execute_result"
    }
   ],
   "source": [
    "# Find central origin\n",
    "dfclean.groupby('origin').timeminutetaken.mean().sort_values(ascending=True).head()\n",
    "\n"
   ]
  },
  {
   "cell_type": "code",
   "execution_count": 719,
   "metadata": {
    "collapsed": false,
    "scrolled": true
   },
   "outputs": [
    {
     "data": {
      "text/plain": [
       "destination\n",
       "Sam Kee     6.716667\n",
       "Bangkit    10.844718\n",
       "Petir      11.707619\n",
       "Kangkar    11.871141\n",
       "Pending    12.173958\n",
       "Name: timeminutetaken, dtype: float64"
      ]
     },
     "execution_count": 719,
     "metadata": {},
     "output_type": "execute_result"
    }
   ],
   "source": [
    "# Find central destination\n",
    "dfclean.groupby('destination').timeminutetaken.mean().sort_values(ascending=True).head()"
   ]
  },
  {
   "cell_type": "code",
   "execution_count": 720,
   "metadata": {
    "collapsed": false
   },
   "outputs": [
    {
     "data": {
      "text/plain": [
       "array(['Bugis', 'Kent Ridge', 'Tai Seng', 'Labrador Park', 'Joo Koon',\n",
       "       'Choa Chu Kang', 'Sembawang', 'Fernvale', 'Clarke Quay',\n",
       "       'Tanjong Pagar', 'Newton', 'one-north', 'Segar', 'Clementi',\n",
       "       'Khatib', 'Fajar', 'Boon Lay', 'Orchard', 'Tiong Bahru',\n",
       "       'Chinatown', 'Jurong East', 'Lorong Chuan', 'Toa Payoh',\n",
       "       'HarbourFront', 'Dhoby Ghaut', 'Promenade', 'Pioneer',\n",
       "       'Buona Vista', 'Stadium', 'Woodlands', 'Sengkang', 'Pasir Panjang',\n",
       "       'Lavender', 'Queenstown', 'Kallang', 'Raffles Place',\n",
       "       'Nicoll Highway', 'Tampines', 'Outram Park', 'Potong Pasir',\n",
       "       'City Hall', 'Tanah Merah', 'Somerset', 'Dover', 'Buangkok',\n",
       "       'Admiralty', 'Serangoon', 'Yew Tee', 'Downtown', 'Farrer Road',\n",
       "       'Aljunied', 'Bayfront', 'MacPherson', 'Teck Whye', 'Yio Chu Kang',\n",
       "       'King Albert Park', 'Bukit Batok', 'Changi Airport', 'Paya Lebar',\n",
       "       'Damai', 'Ang Mo Kio', 'Expo', 'Sixth Avenue', 'Holland Village',\n",
       "       'Bukit Gombak', 'Bishan', 'Lakeside', 'Farmway', 'Simei', 'Novena',\n",
       "       'Redhill', 'Kembangan', 'Caldecott', 'Kranji', 'Little India',\n",
       "       'Rochor', 'Eunos', 'South View', 'Hougang', 'Tongkang', 'Kovan',\n",
       "       'Jelapang', 'Bangkit', 'Botanic Gardens', 'Telok Ayer',\n",
       "       'Bukit Panjang', 'Farrer Park', 'Marsiling', 'Commonwealth',\n",
       "       'Renjong', 'Esplanade', 'Pasir Ris', 'Yishun', 'Bedok',\n",
       "       'Mountbatten', 'Boon Keng', 'Braddell', 'Marymount',\n",
       "       'Chinese Garden', 'Marina South Pier', 'Woodleigh', 'Riviera',\n",
       "       'Punggol', 'Telok Blangah', 'Meridian', 'Haw Par Villa',\n",
       "       'Beauty World', 'Marina Bay', 'Pending', 'Bras Basah', 'Dakota',\n",
       "       'Bakau', 'Coral Edge', 'Phoenix', 'Hillview', 'Kangkar', 'Senja',\n",
       "       'Cheng Lim', 'Bartley', 'Rumbia', 'Kadaloor', 'Oasis', 'Keat Hong',\n",
       "       'Stevens', 'Cashew', 'Kupang', 'Tan Kah Kee', 'Thanggam',\n",
       "       'Ranggung', 'Layar', 'Cove', 'Compassvale', 'Petir', 'Nibong',\n",
       "       'Soo Teck', 'Sam Kee', 'Sumang'], dtype=object)"
      ]
     },
     "execution_count": 720,
     "metadata": {},
     "output_type": "execute_result"
    }
   ],
   "source": [
    "# What are the possible origins and destinations unique values (listing of stations)\n",
    "# df.destination.unique()\n",
    "# df.origin.unique()\n",
    "dfclean.destination.unique() "
   ]
  },
  {
   "cell_type": "code",
   "execution_count": 721,
   "metadata": {
    "collapsed": true
   },
   "outputs": [],
   "source": [
    "stationdf = pd.DataFrame()\n"
   ]
  },
  {
   "cell_type": "code",
   "execution_count": 722,
   "metadata": {
    "collapsed": true
   },
   "outputs": [],
   "source": [
    "### STATIONDF = LIST OF UNIQUE STATIONS ACROSS BOTH ORIGINS & DESTINATIONS \n",
    "## Destination stations are basically a subset of origin stations \n",
    "\n",
    "stationdf['station']=dfclean.origin.unique()"
   ]
  },
  {
   "cell_type": "code",
   "execution_count": 723,
   "metadata": {
    "collapsed": false,
    "scrolled": true
   },
   "outputs": [
    {
     "data": {
      "text/html": [
       "<div>\n",
       "<table border=\"1\" class=\"dataframe\">\n",
       "  <thead>\n",
       "    <tr style=\"text-align: right;\">\n",
       "      <th></th>\n",
       "      <th>station</th>\n",
       "    </tr>\n",
       "  </thead>\n",
       "  <tbody>\n",
       "    <tr>\n",
       "      <th>0</th>\n",
       "      <td>Stevens</td>\n",
       "    </tr>\n",
       "    <tr>\n",
       "      <th>1</th>\n",
       "      <td>Sengkang</td>\n",
       "    </tr>\n",
       "    <tr>\n",
       "      <th>2</th>\n",
       "      <td>Compassvale</td>\n",
       "    </tr>\n",
       "    <tr>\n",
       "      <th>3</th>\n",
       "      <td>Bishan</td>\n",
       "    </tr>\n",
       "    <tr>\n",
       "      <th>4</th>\n",
       "      <td>Boon Lay</td>\n",
       "    </tr>\n",
       "    <tr>\n",
       "      <th>5</th>\n",
       "      <td>Khatib</td>\n",
       "    </tr>\n",
       "    <tr>\n",
       "      <th>6</th>\n",
       "      <td>Woodlands</td>\n",
       "    </tr>\n",
       "    <tr>\n",
       "      <th>7</th>\n",
       "      <td>Chinatown</td>\n",
       "    </tr>\n",
       "    <tr>\n",
       "      <th>8</th>\n",
       "      <td>Newton</td>\n",
       "    </tr>\n",
       "    <tr>\n",
       "      <th>9</th>\n",
       "      <td>Tampines</td>\n",
       "    </tr>\n",
       "    <tr>\n",
       "      <th>10</th>\n",
       "      <td>King Albert Park</td>\n",
       "    </tr>\n",
       "    <tr>\n",
       "      <th>11</th>\n",
       "      <td>Haw Par Villa</td>\n",
       "    </tr>\n",
       "    <tr>\n",
       "      <th>12</th>\n",
       "      <td>Fajar</td>\n",
       "    </tr>\n",
       "    <tr>\n",
       "      <th>13</th>\n",
       "      <td>Tiong Bahru</td>\n",
       "    </tr>\n",
       "    <tr>\n",
       "      <th>14</th>\n",
       "      <td>Segar</td>\n",
       "    </tr>\n",
       "    <tr>\n",
       "      <th>15</th>\n",
       "      <td>Bedok</td>\n",
       "    </tr>\n",
       "    <tr>\n",
       "      <th>16</th>\n",
       "      <td>Bukit Batok</td>\n",
       "    </tr>\n",
       "    <tr>\n",
       "      <th>17</th>\n",
       "      <td>Aljunied</td>\n",
       "    </tr>\n",
       "    <tr>\n",
       "      <th>18</th>\n",
       "      <td>Potong Pasir</td>\n",
       "    </tr>\n",
       "    <tr>\n",
       "      <th>19</th>\n",
       "      <td>Bukit Gombak</td>\n",
       "    </tr>\n",
       "    <tr>\n",
       "      <th>20</th>\n",
       "      <td>Pasir Ris</td>\n",
       "    </tr>\n",
       "    <tr>\n",
       "      <th>21</th>\n",
       "      <td>Simei</td>\n",
       "    </tr>\n",
       "    <tr>\n",
       "      <th>22</th>\n",
       "      <td>Serangoon</td>\n",
       "    </tr>\n",
       "    <tr>\n",
       "      <th>23</th>\n",
       "      <td>Punggol</td>\n",
       "    </tr>\n",
       "    <tr>\n",
       "      <th>24</th>\n",
       "      <td>Dover</td>\n",
       "    </tr>\n",
       "    <tr>\n",
       "      <th>25</th>\n",
       "      <td>Pioneer</td>\n",
       "    </tr>\n",
       "    <tr>\n",
       "      <th>26</th>\n",
       "      <td>Yew Tee</td>\n",
       "    </tr>\n",
       "    <tr>\n",
       "      <th>27</th>\n",
       "      <td>Dhoby Ghaut</td>\n",
       "    </tr>\n",
       "    <tr>\n",
       "      <th>28</th>\n",
       "      <td>Choa Chu Kang</td>\n",
       "    </tr>\n",
       "    <tr>\n",
       "      <th>29</th>\n",
       "      <td>Tai Seng</td>\n",
       "    </tr>\n",
       "    <tr>\n",
       "      <th>...</th>\n",
       "      <td>...</td>\n",
       "    </tr>\n",
       "    <tr>\n",
       "      <th>107</th>\n",
       "      <td>Stadium</td>\n",
       "    </tr>\n",
       "    <tr>\n",
       "      <th>108</th>\n",
       "      <td>Layar</td>\n",
       "    </tr>\n",
       "    <tr>\n",
       "      <th>109</th>\n",
       "      <td>Meridian</td>\n",
       "    </tr>\n",
       "    <tr>\n",
       "      <th>110</th>\n",
       "      <td>Jelapang</td>\n",
       "    </tr>\n",
       "    <tr>\n",
       "      <th>111</th>\n",
       "      <td>one-north</td>\n",
       "    </tr>\n",
       "    <tr>\n",
       "      <th>112</th>\n",
       "      <td>Telok Ayer</td>\n",
       "    </tr>\n",
       "    <tr>\n",
       "      <th>113</th>\n",
       "      <td>Keat Hong</td>\n",
       "    </tr>\n",
       "    <tr>\n",
       "      <th>114</th>\n",
       "      <td>Petir</td>\n",
       "    </tr>\n",
       "    <tr>\n",
       "      <th>115</th>\n",
       "      <td>Coral Edge</td>\n",
       "    </tr>\n",
       "    <tr>\n",
       "      <th>116</th>\n",
       "      <td>Cashew</td>\n",
       "    </tr>\n",
       "    <tr>\n",
       "      <th>117</th>\n",
       "      <td>Bartley</td>\n",
       "    </tr>\n",
       "    <tr>\n",
       "      <th>118</th>\n",
       "      <td>Ranggung</td>\n",
       "    </tr>\n",
       "    <tr>\n",
       "      <th>119</th>\n",
       "      <td>Bangkit</td>\n",
       "    </tr>\n",
       "    <tr>\n",
       "      <th>120</th>\n",
       "      <td>Kupang</td>\n",
       "    </tr>\n",
       "    <tr>\n",
       "      <th>121</th>\n",
       "      <td>Nicoll Highway</td>\n",
       "    </tr>\n",
       "    <tr>\n",
       "      <th>122</th>\n",
       "      <td>Farrer Road</td>\n",
       "    </tr>\n",
       "    <tr>\n",
       "      <th>123</th>\n",
       "      <td>Bakau</td>\n",
       "    </tr>\n",
       "    <tr>\n",
       "      <th>124</th>\n",
       "      <td>Bras Basah</td>\n",
       "    </tr>\n",
       "    <tr>\n",
       "      <th>125</th>\n",
       "      <td>Damai</td>\n",
       "    </tr>\n",
       "    <tr>\n",
       "      <th>126</th>\n",
       "      <td>Promenade</td>\n",
       "    </tr>\n",
       "    <tr>\n",
       "      <th>127</th>\n",
       "      <td>Nibong</td>\n",
       "    </tr>\n",
       "    <tr>\n",
       "      <th>128</th>\n",
       "      <td>Rumbia</td>\n",
       "    </tr>\n",
       "    <tr>\n",
       "      <th>129</th>\n",
       "      <td>Pending</td>\n",
       "    </tr>\n",
       "    <tr>\n",
       "      <th>130</th>\n",
       "      <td>Cheng Lim</td>\n",
       "    </tr>\n",
       "    <tr>\n",
       "      <th>131</th>\n",
       "      <td>Labrador Park</td>\n",
       "    </tr>\n",
       "    <tr>\n",
       "      <th>132</th>\n",
       "      <td>Esplanade</td>\n",
       "    </tr>\n",
       "    <tr>\n",
       "      <th>133</th>\n",
       "      <td>Marina Bay</td>\n",
       "    </tr>\n",
       "    <tr>\n",
       "      <th>134</th>\n",
       "      <td>Thanggam</td>\n",
       "    </tr>\n",
       "    <tr>\n",
       "      <th>135</th>\n",
       "      <td>Sumang</td>\n",
       "    </tr>\n",
       "    <tr>\n",
       "      <th>136</th>\n",
       "      <td>Ten Mile Junction</td>\n",
       "    </tr>\n",
       "  </tbody>\n",
       "</table>\n",
       "<p>137 rows × 1 columns</p>\n",
       "</div>"
      ],
      "text/plain": [
       "               station\n",
       "0              Stevens\n",
       "1             Sengkang\n",
       "2          Compassvale\n",
       "3               Bishan\n",
       "4             Boon Lay\n",
       "5               Khatib\n",
       "6            Woodlands\n",
       "7            Chinatown\n",
       "8               Newton\n",
       "9             Tampines\n",
       "10    King Albert Park\n",
       "11       Haw Par Villa\n",
       "12               Fajar\n",
       "13         Tiong Bahru\n",
       "14               Segar\n",
       "15               Bedok\n",
       "16         Bukit Batok\n",
       "17            Aljunied\n",
       "18        Potong Pasir\n",
       "19        Bukit Gombak\n",
       "20           Pasir Ris\n",
       "21               Simei\n",
       "22           Serangoon\n",
       "23             Punggol\n",
       "24               Dover\n",
       "25             Pioneer\n",
       "26             Yew Tee\n",
       "27         Dhoby Ghaut\n",
       "28       Choa Chu Kang\n",
       "29            Tai Seng\n",
       "..                 ...\n",
       "107            Stadium\n",
       "108              Layar\n",
       "109           Meridian\n",
       "110           Jelapang\n",
       "111          one-north\n",
       "112         Telok Ayer\n",
       "113          Keat Hong\n",
       "114              Petir\n",
       "115         Coral Edge\n",
       "116             Cashew\n",
       "117            Bartley\n",
       "118           Ranggung\n",
       "119            Bangkit\n",
       "120             Kupang\n",
       "121     Nicoll Highway\n",
       "122        Farrer Road\n",
       "123              Bakau\n",
       "124         Bras Basah\n",
       "125              Damai\n",
       "126          Promenade\n",
       "127             Nibong\n",
       "128             Rumbia\n",
       "129            Pending\n",
       "130          Cheng Lim\n",
       "131      Labrador Park\n",
       "132          Esplanade\n",
       "133         Marina Bay\n",
       "134           Thanggam\n",
       "135             Sumang\n",
       "136  Ten Mile Junction\n",
       "\n",
       "[137 rows x 1 columns]"
      ]
     },
     "execution_count": 723,
     "metadata": {},
     "output_type": "execute_result"
    }
   ],
   "source": [
    "stationdf"
   ]
  },
  {
   "cell_type": "code",
   "execution_count": 724,
   "metadata": {
    "collapsed": true
   },
   "outputs": [],
   "source": [
    "stationdfset = stationdf.set_index('station')"
   ]
  },
  {
   "cell_type": "code",
   "execution_count": 725,
   "metadata": {
    "collapsed": false
   },
   "outputs": [],
   "source": [
    "## Average Travel time from other stations to destination station X \n",
    "stationdfset['minutetakenasdestination'] =  dfclean.groupby('destination').timeminutetaken.mean()\n",
    "## Average Travel time from  origin station X to other stations  \n",
    "stationdfset['minutetakenasorigin'] = dfclean.groupby('origin').timeminutetaken.mean()\n",
    "## Total Traffic Count from other stations to destination station X \n",
    "stationdfset['counttrafficdestination'] = dfclean.groupby('destination').timeminutetaken.count()\n",
    "## Total Traffic Count from origin station X to other stations  \n",
    "stationdfset['counttrafficorigin'] = dfclean.groupby('origin').timeminutetaken.count()"
   ]
  },
  {
   "cell_type": "code",
   "execution_count": 726,
   "metadata": {
    "collapsed": false
   },
   "outputs": [
    {
     "data": {
      "text/html": [
       "<div>\n",
       "<table border=\"1\" class=\"dataframe\">\n",
       "  <thead>\n",
       "    <tr style=\"text-align: right;\">\n",
       "      <th></th>\n",
       "      <th>minutetakenasdestination</th>\n",
       "      <th>minutetakenasorigin</th>\n",
       "      <th>counttrafficdestination</th>\n",
       "      <th>counttrafficorigin</th>\n",
       "    </tr>\n",
       "    <tr>\n",
       "      <th>station</th>\n",
       "      <th></th>\n",
       "      <th></th>\n",
       "      <th></th>\n",
       "      <th></th>\n",
       "    </tr>\n",
       "  </thead>\n",
       "  <tbody>\n",
       "    <tr>\n",
       "      <th>Stevens</th>\n",
       "      <td>16.712917</td>\n",
       "      <td>15.587724</td>\n",
       "      <td>240.0</td>\n",
       "      <td>615</td>\n",
       "    </tr>\n",
       "    <tr>\n",
       "      <th>Sengkang</th>\n",
       "      <td>16.407068</td>\n",
       "      <td>27.209650</td>\n",
       "      <td>1620.0</td>\n",
       "      <td>7518</td>\n",
       "    </tr>\n",
       "    <tr>\n",
       "      <th>Compassvale</th>\n",
       "      <td>14.277932</td>\n",
       "      <td>30.783237</td>\n",
       "      <td>324.0</td>\n",
       "      <td>1038</td>\n",
       "    </tr>\n",
       "    <tr>\n",
       "      <th>Bishan</th>\n",
       "      <td>21.096509</td>\n",
       "      <td>20.697984</td>\n",
       "      <td>4368.0</td>\n",
       "      <td>9522</td>\n",
       "    </tr>\n",
       "    <tr>\n",
       "      <th>Boon Lay</th>\n",
       "      <td>30.276859</td>\n",
       "      <td>31.532094</td>\n",
       "      <td>5043.0</td>\n",
       "      <td>7302</td>\n",
       "    </tr>\n",
       "  </tbody>\n",
       "</table>\n",
       "</div>"
      ],
      "text/plain": [
       "             minutetakenasdestination  minutetakenasorigin  \\\n",
       "station                                                      \n",
       "Stevens                     16.712917            15.587724   \n",
       "Sengkang                    16.407068            27.209650   \n",
       "Compassvale                 14.277932            30.783237   \n",
       "Bishan                      21.096509            20.697984   \n",
       "Boon Lay                    30.276859            31.532094   \n",
       "\n",
       "             counttrafficdestination  counttrafficorigin  \n",
       "station                                                   \n",
       "Stevens                        240.0                 615  \n",
       "Sengkang                      1620.0                7518  \n",
       "Compassvale                    324.0                1038  \n",
       "Bishan                        4368.0                9522  \n",
       "Boon Lay                      5043.0                7302  "
      ]
     },
     "execution_count": 726,
     "metadata": {},
     "output_type": "execute_result"
    }
   ],
   "source": [
    "stationdfset.head()\n"
   ]
  },
  {
   "cell_type": "code",
   "execution_count": 727,
   "metadata": {
    "collapsed": false,
    "scrolled": true
   },
   "outputs": [
    {
     "name": "stderr",
     "output_type": "stream",
     "text": [
      "C:\\Users\\Ranon Sim\\Anaconda3\\lib\\site-packages\\numpy\\lib\\function_base.py:3834: RuntimeWarning: Invalid value encountered in percentile\n",
      "  RuntimeWarning)\n"
     ]
    },
    {
     "data": {
      "text/html": [
       "<div>\n",
       "<table border=\"1\" class=\"dataframe\">\n",
       "  <thead>\n",
       "    <tr style=\"text-align: right;\">\n",
       "      <th></th>\n",
       "      <th>minutetakenasdestination</th>\n",
       "      <th>minutetakenasorigin</th>\n",
       "      <th>counttrafficdestination</th>\n",
       "      <th>counttrafficorigin</th>\n",
       "    </tr>\n",
       "  </thead>\n",
       "  <tbody>\n",
       "    <tr>\n",
       "      <th>count</th>\n",
       "      <td>136.000000</td>\n",
       "      <td>137.000000</td>\n",
       "      <td>136.000000</td>\n",
       "      <td>137.000000</td>\n",
       "    </tr>\n",
       "    <tr>\n",
       "      <th>mean</th>\n",
       "      <td>22.697031</td>\n",
       "      <td>23.485623</td>\n",
       "      <td>2784.816176</td>\n",
       "      <td>2764.532847</td>\n",
       "    </tr>\n",
       "    <tr>\n",
       "      <th>std</th>\n",
       "      <td>5.440983</td>\n",
       "      <td>6.414214</td>\n",
       "      <td>3545.437227</td>\n",
       "      <td>2875.901360</td>\n",
       "    </tr>\n",
       "    <tr>\n",
       "      <th>min</th>\n",
       "      <td>10.844718</td>\n",
       "      <td>12.358642</td>\n",
       "      <td>21.000000</td>\n",
       "      <td>6.000000</td>\n",
       "    </tr>\n",
       "    <tr>\n",
       "      <th>25%</th>\n",
       "      <td>NaN</td>\n",
       "      <td>18.377602</td>\n",
       "      <td>NaN</td>\n",
       "      <td>603.000000</td>\n",
       "    </tr>\n",
       "    <tr>\n",
       "      <th>50%</th>\n",
       "      <td>NaN</td>\n",
       "      <td>22.403333</td>\n",
       "      <td>NaN</td>\n",
       "      <td>1344.000000</td>\n",
       "    </tr>\n",
       "    <tr>\n",
       "      <th>75%</th>\n",
       "      <td>NaN</td>\n",
       "      <td>28.672864</td>\n",
       "      <td>NaN</td>\n",
       "      <td>4203.000000</td>\n",
       "    </tr>\n",
       "    <tr>\n",
       "      <th>max</th>\n",
       "      <td>42.637337</td>\n",
       "      <td>42.998703</td>\n",
       "      <td>22899.000000</td>\n",
       "      <td>12525.000000</td>\n",
       "    </tr>\n",
       "  </tbody>\n",
       "</table>\n",
       "</div>"
      ],
      "text/plain": [
       "       minutetakenasdestination  minutetakenasorigin  counttrafficdestination  \\\n",
       "count                136.000000           137.000000               136.000000   \n",
       "mean                  22.697031            23.485623              2784.816176   \n",
       "std                    5.440983             6.414214              3545.437227   \n",
       "min                   10.844718            12.358642                21.000000   \n",
       "25%                         NaN            18.377602                      NaN   \n",
       "50%                         NaN            22.403333                      NaN   \n",
       "75%                         NaN            28.672864                      NaN   \n",
       "max                   42.637337            42.998703             22899.000000   \n",
       "\n",
       "       counttrafficorigin  \n",
       "count          137.000000  \n",
       "mean          2764.532847  \n",
       "std           2875.901360  \n",
       "min              6.000000  \n",
       "25%            603.000000  \n",
       "50%           1344.000000  \n",
       "75%           4203.000000  \n",
       "max          12525.000000  "
      ]
     },
     "execution_count": 727,
     "metadata": {},
     "output_type": "execute_result"
    }
   ],
   "source": [
    "stationdfset.describe()"
   ]
  },
  {
   "cell_type": "code",
   "execution_count": 728,
   "metadata": {
    "collapsed": true
   },
   "outputs": [],
   "source": [
    "# Finding out popularity of the stations based on the counttraffic destination and origin.  \n",
    "stationdfset['destinationpopularity'] = pd.qcut(stationdfset['counttrafficdestination'],3,labels=['low','med','high'])\n",
    "stationdfset['originpopularity'] = pd.qcut(stationdfset['counttrafficorigin'],3,labels=['low','med','high'])\n"
   ]
  },
  {
   "cell_type": "code",
   "execution_count": 729,
   "metadata": {
    "collapsed": false
   },
   "outputs": [
    {
     "data": {
      "text/html": [
       "<div>\n",
       "<table border=\"1\" class=\"dataframe\">\n",
       "  <thead>\n",
       "    <tr style=\"text-align: right;\">\n",
       "      <th></th>\n",
       "      <th>minutetakenasdestination</th>\n",
       "      <th>minutetakenasorigin</th>\n",
       "      <th>counttrafficdestination</th>\n",
       "      <th>counttrafficorigin</th>\n",
       "      <th>destinationpopularity</th>\n",
       "      <th>originpopularity</th>\n",
       "    </tr>\n",
       "    <tr>\n",
       "      <th>station</th>\n",
       "      <th></th>\n",
       "      <th></th>\n",
       "      <th></th>\n",
       "      <th></th>\n",
       "      <th></th>\n",
       "      <th></th>\n",
       "    </tr>\n",
       "  </thead>\n",
       "  <tbody>\n",
       "    <tr>\n",
       "      <th>Stevens</th>\n",
       "      <td>16.712917</td>\n",
       "      <td>15.587724</td>\n",
       "      <td>240.0</td>\n",
       "      <td>615</td>\n",
       "      <td>low</td>\n",
       "      <td>low</td>\n",
       "    </tr>\n",
       "    <tr>\n",
       "      <th>Sengkang</th>\n",
       "      <td>16.407068</td>\n",
       "      <td>27.209650</td>\n",
       "      <td>1620.0</td>\n",
       "      <td>7518</td>\n",
       "      <td>med</td>\n",
       "      <td>high</td>\n",
       "    </tr>\n",
       "    <tr>\n",
       "      <th>Compassvale</th>\n",
       "      <td>14.277932</td>\n",
       "      <td>30.783237</td>\n",
       "      <td>324.0</td>\n",
       "      <td>1038</td>\n",
       "      <td>low</td>\n",
       "      <td>med</td>\n",
       "    </tr>\n",
       "    <tr>\n",
       "      <th>Bishan</th>\n",
       "      <td>21.096509</td>\n",
       "      <td>20.697984</td>\n",
       "      <td>4368.0</td>\n",
       "      <td>9522</td>\n",
       "      <td>high</td>\n",
       "      <td>high</td>\n",
       "    </tr>\n",
       "    <tr>\n",
       "      <th>Boon Lay</th>\n",
       "      <td>30.276859</td>\n",
       "      <td>31.532094</td>\n",
       "      <td>5043.0</td>\n",
       "      <td>7302</td>\n",
       "      <td>high</td>\n",
       "      <td>high</td>\n",
       "    </tr>\n",
       "  </tbody>\n",
       "</table>\n",
       "</div>"
      ],
      "text/plain": [
       "             minutetakenasdestination  minutetakenasorigin  \\\n",
       "station                                                      \n",
       "Stevens                     16.712917            15.587724   \n",
       "Sengkang                    16.407068            27.209650   \n",
       "Compassvale                 14.277932            30.783237   \n",
       "Bishan                      21.096509            20.697984   \n",
       "Boon Lay                    30.276859            31.532094   \n",
       "\n",
       "             counttrafficdestination  counttrafficorigin  \\\n",
       "station                                                    \n",
       "Stevens                        240.0                 615   \n",
       "Sengkang                      1620.0                7518   \n",
       "Compassvale                    324.0                1038   \n",
       "Bishan                        4368.0                9522   \n",
       "Boon Lay                      5043.0                7302   \n",
       "\n",
       "            destinationpopularity originpopularity  \n",
       "station                                             \n",
       "Stevens                       low              low  \n",
       "Sengkang                      med             high  \n",
       "Compassvale                   low              med  \n",
       "Bishan                       high             high  \n",
       "Boon Lay                     high             high  "
      ]
     },
     "execution_count": 729,
     "metadata": {},
     "output_type": "execute_result"
    }
   ],
   "source": [
    " \n",
    "stationdfset.head()\n"
   ]
  },
  {
   "cell_type": "code",
   "execution_count": 730,
   "metadata": {
    "collapsed": true
   },
   "outputs": [],
   "source": [
    "\n",
    "# ASSUMPTION: Central Stations are on the medium to high scale in terms of traffic (both to and from the stations)\n",
    "medhighcounts = (stationdfset.destinationpopularity.isin(['med','high']))&(stationdfset.originpopularity.isin(['med','high']))\n"
   ]
  },
  {
   "cell_type": "code",
   "execution_count": 731,
   "metadata": {
    "collapsed": false
   },
   "outputs": [
    {
     "data": {
      "text/plain": [
       "station\n",
       "Bukit Panjang    15.432504\n",
       "Sengkang         16.407068\n",
       "Kovan            17.098517\n",
       "Punggol          18.517269\n",
       "Boon Keng        18.915853\n",
       "Name: minutetakenasdestination, dtype: float64"
      ]
     },
     "execution_count": 731,
     "metadata": {},
     "output_type": "execute_result"
    }
   ],
   "source": [
    "\n",
    "\n",
    "stationdfset.loc[medhighcounts,'minutetakenasdestination'].sort_values().head()\n"
   ]
  },
  {
   "cell_type": "code",
   "execution_count": 732,
   "metadata": {
    "collapsed": false
   },
   "outputs": [
    {
     "data": {
      "text/plain": [
       "station\n",
       "Newton             12.760173\n",
       "Dhoby Ghaut        13.724121\n",
       "Rochor             14.842075\n",
       "City Hall          15.077724\n",
       "Somerset           15.214431\n",
       "Bugis              15.772403\n",
       "Botanic Gardens    15.869775\n",
       "Little India       15.954053\n",
       "Boon Keng          16.712680\n",
       "Novena             16.848516\n",
       "Name: minutetakenasorigin, dtype: float64"
      ]
     },
     "execution_count": 732,
     "metadata": {},
     "output_type": "execute_result"
    }
   ],
   "source": [
    "\n",
    "\n",
    "stationdfset.loc[medhighcounts,'minutetakenasorigin'].sort_values().head(10)\n"
   ]
  },
  {
   "cell_type": "markdown",
   "metadata": {},
   "source": [
    "# Find distinct count of stations that visited the following station."
   ]
  },
  {
   "cell_type": "code",
   "execution_count": 733,
   "metadata": {
    "collapsed": true
   },
   "outputs": [],
   "source": [
    "\n",
    "stationdfset['stationsvisitingthisstation'] = dfclean.groupby('destination').origin.nunique()\n",
    "\n"
   ]
  },
  {
   "cell_type": "code",
   "execution_count": 734,
   "metadata": {
    "collapsed": false,
    "scrolled": false
   },
   "outputs": [
    {
     "data": {
      "text/html": [
       "<div>\n",
       "<table border=\"1\" class=\"dataframe\">\n",
       "  <thead>\n",
       "    <tr style=\"text-align: right;\">\n",
       "      <th></th>\n",
       "      <th>minutetakenasdestination</th>\n",
       "      <th>minutetakenasorigin</th>\n",
       "      <th>counttrafficdestination</th>\n",
       "      <th>counttrafficorigin</th>\n",
       "      <th>destinationpopularity</th>\n",
       "      <th>originpopularity</th>\n",
       "      <th>stationsvisitingthisstation</th>\n",
       "    </tr>\n",
       "    <tr>\n",
       "      <th>station</th>\n",
       "      <th></th>\n",
       "      <th></th>\n",
       "      <th></th>\n",
       "      <th></th>\n",
       "      <th></th>\n",
       "      <th></th>\n",
       "      <th></th>\n",
       "    </tr>\n",
       "  </thead>\n",
       "  <tbody>\n",
       "    <tr>\n",
       "      <th>Stevens</th>\n",
       "      <td>16.712917</td>\n",
       "      <td>15.587724</td>\n",
       "      <td>240.0</td>\n",
       "      <td>615</td>\n",
       "      <td>low</td>\n",
       "      <td>low</td>\n",
       "      <td>34.0</td>\n",
       "    </tr>\n",
       "    <tr>\n",
       "      <th>Sengkang</th>\n",
       "      <td>16.407068</td>\n",
       "      <td>27.209650</td>\n",
       "      <td>1620.0</td>\n",
       "      <td>7518</td>\n",
       "      <td>med</td>\n",
       "      <td>high</td>\n",
       "      <td>71.0</td>\n",
       "    </tr>\n",
       "    <tr>\n",
       "      <th>Compassvale</th>\n",
       "      <td>14.277932</td>\n",
       "      <td>30.783237</td>\n",
       "      <td>324.0</td>\n",
       "      <td>1038</td>\n",
       "      <td>low</td>\n",
       "      <td>med</td>\n",
       "      <td>29.0</td>\n",
       "    </tr>\n",
       "    <tr>\n",
       "      <th>Bishan</th>\n",
       "      <td>21.096509</td>\n",
       "      <td>20.697984</td>\n",
       "      <td>4368.0</td>\n",
       "      <td>9522</td>\n",
       "      <td>high</td>\n",
       "      <td>high</td>\n",
       "      <td>108.0</td>\n",
       "    </tr>\n",
       "    <tr>\n",
       "      <th>Boon Lay</th>\n",
       "      <td>30.276859</td>\n",
       "      <td>31.532094</td>\n",
       "      <td>5043.0</td>\n",
       "      <td>7302</td>\n",
       "      <td>high</td>\n",
       "      <td>high</td>\n",
       "      <td>98.0</td>\n",
       "    </tr>\n",
       "  </tbody>\n",
       "</table>\n",
       "</div>"
      ],
      "text/plain": [
       "             minutetakenasdestination  minutetakenasorigin  \\\n",
       "station                                                      \n",
       "Stevens                     16.712917            15.587724   \n",
       "Sengkang                    16.407068            27.209650   \n",
       "Compassvale                 14.277932            30.783237   \n",
       "Bishan                      21.096509            20.697984   \n",
       "Boon Lay                    30.276859            31.532094   \n",
       "\n",
       "             counttrafficdestination  counttrafficorigin  \\\n",
       "station                                                    \n",
       "Stevens                        240.0                 615   \n",
       "Sengkang                      1620.0                7518   \n",
       "Compassvale                    324.0                1038   \n",
       "Bishan                        4368.0                9522   \n",
       "Boon Lay                      5043.0                7302   \n",
       "\n",
       "            destinationpopularity originpopularity  \\\n",
       "station                                              \n",
       "Stevens                       low              low   \n",
       "Sengkang                      med             high   \n",
       "Compassvale                   low              med   \n",
       "Bishan                       high             high   \n",
       "Boon Lay                     high             high   \n",
       "\n",
       "             stationsvisitingthisstation  \n",
       "station                                   \n",
       "Stevens                             34.0  \n",
       "Sengkang                            71.0  \n",
       "Compassvale                         29.0  \n",
       "Bishan                             108.0  \n",
       "Boon Lay                            98.0  "
      ]
     },
     "execution_count": 734,
     "metadata": {},
     "output_type": "execute_result"
    }
   ],
   "source": [
    "\n",
    "stationdfset.head()"
   ]
  },
  {
   "cell_type": "code",
   "execution_count": 735,
   "metadata": {
    "collapsed": false
   },
   "outputs": [],
   "source": [
    "\n",
    "\n",
    "stationsvisitingthisstationmorethan10 = stationdfset.stationsvisitingthisstation>10\n"
   ]
  },
  {
   "cell_type": "code",
   "execution_count": 736,
   "metadata": {
    "collapsed": false
   },
   "outputs": [
    {
     "data": {
      "text/plain": [
       "array(['Bukit Panjang', 'Sengkang', 'Kovan', 'Punggol', 'Boon Keng'], dtype=object)"
      ]
     },
     "execution_count": 736,
     "metadata": {},
     "output_type": "execute_result"
    }
   ],
   "source": [
    "# Top 5 Central Destinations\n",
    "firstfivedest = stationdfset.loc[medhighcounts&stationsvisitingthisstationmorethan10,'minutetakenasdestination'].sort_values().head(5)\n",
    "firstfivedest.index.get_values()"
   ]
  },
  {
   "cell_type": "code",
   "execution_count": 737,
   "metadata": {
    "collapsed": false
   },
   "outputs": [
    {
     "data": {
      "text/plain": [
       "array(['Newton', 'Dhoby Ghaut', 'Rochor', 'City Hall', 'Somerset'], dtype=object)"
      ]
     },
     "execution_count": 737,
     "metadata": {},
     "output_type": "execute_result"
    }
   ],
   "source": [
    "# Top 5 Central Origins\n",
    "\n",
    "firstfiveorigin = stationdfset.loc[medhighcounts&stationsvisitingthisstationmorethan10,'minutetakenasorigin'].sort_values().head(5)\n",
    "firstfiveorigin.index.get_values()"
   ]
  },
  {
   "cell_type": "code",
   "execution_count": 738,
   "metadata": {
    "collapsed": false
   },
   "outputs": [
    {
     "data": {
      "text/plain": [
       "array(['Kent Ridge', 'Dover', 'HarbourFront', 'Haw Par Villa',\n",
       "       'Changi Airport'], dtype=object)"
      ]
     },
     "execution_count": 738,
     "metadata": {},
     "output_type": "execute_result"
    }
   ],
   "source": [
    "# Top 5 End - Destinations\n",
    "\n",
    "lastfivedest = stationdfset.loc[medhighcounts&stationsvisitingthisstationmorethan10,'minutetakenasdestination'].sort_values().tail(5)\n",
    "lastfivedest.index.get_values()\n"
   ]
  },
  {
   "cell_type": "code",
   "execution_count": 739,
   "metadata": {
    "collapsed": false
   },
   "outputs": [
    {
     "data": {
      "text/plain": [
       "array(['Admiralty', 'Tampines', 'Woodlands', 'Fernvale', 'Changi Airport'], dtype=object)"
      ]
     },
     "execution_count": 739,
     "metadata": {},
     "output_type": "execute_result"
    }
   ],
   "source": [
    "# Top 5 End - Origins\n",
    "\n",
    "lastfiveori = stationdfset.loc[medhighcounts&countdistinctstationvisitedmorethan10,'minutetakenasorigin'].sort_values().tail(5)\n",
    "lastfiveori.index.get_values()\n"
   ]
  },
  {
   "cell_type": "code",
   "execution_count": 740,
   "metadata": {
    "collapsed": false
   },
   "outputs": [
    {
     "data": {
      "text/plain": [
       "['Newton',\n",
       " 'Boon Keng',\n",
       " 'Somerset',\n",
       " 'Sengkang',\n",
       " 'Dhoby Ghaut',\n",
       " 'Bukit Panjang',\n",
       " 'Rochor',\n",
       " 'Punggol',\n",
       " 'City Hall',\n",
       " 'Kovan']"
      ]
     },
     "execution_count": 740,
     "metadata": {},
     "output_type": "execute_result"
    }
   ],
   "source": [
    "centralnodes = list(set(firstfivedest.index.get_values()) | set(firstfiveorigin.index.get_values()))\n",
    "centralnodes"
   ]
  },
  {
   "cell_type": "code",
   "execution_count": 741,
   "metadata": {
    "collapsed": false
   },
   "outputs": [
    {
     "data": {
      "text/plain": [
       "['Haw Par Villa',\n",
       " 'HarbourFront',\n",
       " 'Dover',\n",
       " 'Woodlands',\n",
       " 'Fernvale',\n",
       " 'Kent Ridge',\n",
       " 'Tampines',\n",
       " 'Changi Airport',\n",
       " 'Admiralty']"
      ]
     },
     "execution_count": 741,
     "metadata": {},
     "output_type": "execute_result"
    }
   ],
   "source": [
    "\n",
    "\n",
    "endnodes = list(set(lastfivedest.index.get_values()) | set(lastfiveori.index.get_values()))\n",
    "endnodes"
   ]
  },
  {
   "cell_type": "code",
   "execution_count": 742,
   "metadata": {
    "collapsed": true
   },
   "outputs": [],
   "source": [
    "\n",
    "\n",
    "\n",
    "# # Next steps\n",
    "# 1. Finding the route with shortest time from any centres to the end nodes \n",
    "# 2. Finding the inbetweens of that route (by checking center to node, node to end)\n",
    "# 3. Repeating that system with the other possible alternatives\n"
   ]
  },
  {
   "cell_type": "code",
   "execution_count": 743,
   "metadata": {
    "collapsed": true
   },
   "outputs": [],
   "source": [
    "stationincentralnodes = (dfclean.destination.isin(centralnodes))&(dfclean.origin.isin(endnodes))|(dfclean.destination.isin(endnodes))&(dfclean.origin.isin(centralnodes))\n",
    "                       \n"
   ]
  },
  {
   "cell_type": "code",
   "execution_count": 744,
   "metadata": {
    "collapsed": false
   },
   "outputs": [
    {
     "data": {
      "text/plain": [
       "7092"
      ]
     },
     "execution_count": 744,
     "metadata": {},
     "output_type": "execute_result"
    }
   ],
   "source": [
    "(stationincentralnodes).sum()"
   ]
  },
  {
   "cell_type": "code",
   "execution_count": 745,
   "metadata": {
    "collapsed": false
   },
   "outputs": [
    {
     "data": {
      "text/html": [
       "<div>\n",
       "<table border=\"1\" class=\"dataframe\">\n",
       "  <thead>\n",
       "    <tr style=\"text-align: right;\">\n",
       "      <th></th>\n",
       "      <th>index</th>\n",
       "      <th>destination</th>\n",
       "      <th>destination_tm</th>\n",
       "      <th>origin</th>\n",
       "      <th>origin_tm</th>\n",
       "      <th>timeperiod</th>\n",
       "      <th>timeminutetaken</th>\n",
       "    </tr>\n",
       "  </thead>\n",
       "  <tbody>\n",
       "    <tr>\n",
       "      <th>1</th>\n",
       "      <td>1</td>\n",
       "      <td>Kent Ridge</td>\n",
       "      <td>10:11:34</td>\n",
       "      <td>Sengkang</td>\n",
       "      <td>09:27:41</td>\n",
       "      <td>00:43:53</td>\n",
       "      <td>43.883333</td>\n",
       "    </tr>\n",
       "    <tr>\n",
       "      <th>33</th>\n",
       "      <td>33</td>\n",
       "      <td>HarbourFront</td>\n",
       "      <td>10:13:20</td>\n",
       "      <td>Dhoby Ghaut</td>\n",
       "      <td>09:55:37</td>\n",
       "      <td>00:17:43</td>\n",
       "      <td>17.716667</td>\n",
       "    </tr>\n",
       "    <tr>\n",
       "      <th>64</th>\n",
       "      <td>64</td>\n",
       "      <td>City Hall</td>\n",
       "      <td>09:36:51</td>\n",
       "      <td>Tampines</td>\n",
       "      <td>09:04:11</td>\n",
       "      <td>00:32:40</td>\n",
       "      <td>32.666667</td>\n",
       "    </tr>\n",
       "    <tr>\n",
       "      <th>66</th>\n",
       "      <td>66</td>\n",
       "      <td>Dhoby Ghaut</td>\n",
       "      <td>10:14:39</td>\n",
       "      <td>Woodlands</td>\n",
       "      <td>09:33:30</td>\n",
       "      <td>00:41:09</td>\n",
       "      <td>41.150000</td>\n",
       "    </tr>\n",
       "    <tr>\n",
       "      <th>96</th>\n",
       "      <td>96</td>\n",
       "      <td>Dhoby Ghaut</td>\n",
       "      <td>10:10:07</td>\n",
       "      <td>Haw Par Villa</td>\n",
       "      <td>09:43:44</td>\n",
       "      <td>00:26:23</td>\n",
       "      <td>26.383333</td>\n",
       "    </tr>\n",
       "  </tbody>\n",
       "</table>\n",
       "</div>"
      ],
      "text/plain": [
       "    index   destination destination_tm         origin origin_tm  timeperiod  \\\n",
       "1       1    Kent Ridge       10:11:34       Sengkang  09:27:41    00:43:53   \n",
       "33     33  HarbourFront       10:13:20    Dhoby Ghaut  09:55:37    00:17:43   \n",
       "64     64     City Hall       09:36:51       Tampines  09:04:11    00:32:40   \n",
       "66     66   Dhoby Ghaut       10:14:39      Woodlands  09:33:30    00:41:09   \n",
       "96     96   Dhoby Ghaut       10:10:07  Haw Par Villa  09:43:44    00:26:23   \n",
       "\n",
       "    timeminutetaken  \n",
       "1         43.883333  \n",
       "33        17.716667  \n",
       "64        32.666667  \n",
       "66        41.150000  \n",
       "96        26.383333  "
      ]
     },
     "execution_count": 745,
     "metadata": {},
     "output_type": "execute_result"
    }
   ],
   "source": [
    "dfclean.loc[stationincentralnodes,:].head()\n"
   ]
  },
  {
   "cell_type": "code",
   "execution_count": 746,
   "metadata": {
    "collapsed": true
   },
   "outputs": [],
   "source": [
    "timebyorigindestination = dfclean.loc[stationincentralnodes,:].groupby(['origin','destination']).timeminutetaken.mean()\n"
   ]
  },
  {
   "cell_type": "code",
   "execution_count": 747,
   "metadata": {
    "collapsed": false
   },
   "outputs": [
    {
     "data": {
      "text/html": [
       "<div>\n",
       "<table border=\"1\" class=\"dataframe\">\n",
       "  <thead>\n",
       "    <tr style=\"text-align: right;\">\n",
       "      <th></th>\n",
       "      <th>origin</th>\n",
       "      <th>destination</th>\n",
       "      <th>timeminutetaken</th>\n",
       "    </tr>\n",
       "  </thead>\n",
       "  <tbody>\n",
       "    <tr>\n",
       "      <th>0</th>\n",
       "      <td>Sengkang</td>\n",
       "      <td>Fernvale</td>\n",
       "      <td>12.761789</td>\n",
       "    </tr>\n",
       "    <tr>\n",
       "      <th>1</th>\n",
       "      <td>Fernvale</td>\n",
       "      <td>Sengkang</td>\n",
       "      <td>13.239247</td>\n",
       "    </tr>\n",
       "    <tr>\n",
       "      <th>2</th>\n",
       "      <td>HarbourFront</td>\n",
       "      <td>Dhoby Ghaut</td>\n",
       "      <td>13.719231</td>\n",
       "    </tr>\n",
       "    <tr>\n",
       "      <th>3</th>\n",
       "      <td>Dhoby Ghaut</td>\n",
       "      <td>HarbourFront</td>\n",
       "      <td>14.814754</td>\n",
       "    </tr>\n",
       "    <tr>\n",
       "      <th>4</th>\n",
       "      <td>Fernvale</td>\n",
       "      <td>Punggol</td>\n",
       "      <td>17.308333</td>\n",
       "    </tr>\n",
       "  </tbody>\n",
       "</table>\n",
       "</div>"
      ],
      "text/plain": [
       "         origin   destination  timeminutetaken\n",
       "0      Sengkang      Fernvale        12.761789\n",
       "1      Fernvale      Sengkang        13.239247\n",
       "2  HarbourFront   Dhoby Ghaut        13.719231\n",
       "3   Dhoby Ghaut  HarbourFront        14.814754\n",
       "4      Fernvale       Punggol        17.308333"
      ]
     },
     "execution_count": 747,
     "metadata": {},
     "output_type": "execute_result"
    }
   ],
   "source": [
    "# Use this centralnodesdf to find the inbetweens. This we will create a set of existing nodes (outside the pair and find the neighbour until a chain is formed\n",
    "centralendnodesdf = timebyorigindestination.sort_values().reset_index()\n",
    "centralendnodesdf.head()\n",
    "\n",
    "\n",
    "\n",
    "     "
   ]
  },
  {
   "cell_type": "code",
   "execution_count": 748,
   "metadata": {
    "collapsed": false
   },
   "outputs": [],
   "source": [
    "existingstations = list(set(dfclean.destination.get_values()) | set(dfclean.origin.get_values()))"
   ]
  },
  {
   "cell_type": "code",
   "execution_count": 749,
   "metadata": {
    "collapsed": false,
    "scrolled": true
   },
   "outputs": [
    {
     "data": {
      "text/html": [
       "<div>\n",
       "<table border=\"1\" class=\"dataframe\">\n",
       "  <thead>\n",
       "    <tr style=\"text-align: right;\">\n",
       "      <th></th>\n",
       "      <th>origin</th>\n",
       "      <th>destination</th>\n",
       "      <th>timeminutetaken</th>\n",
       "    </tr>\n",
       "  </thead>\n",
       "  <tbody>\n",
       "    <tr>\n",
       "      <th>0</th>\n",
       "      <td>Admiralty</td>\n",
       "      <td>Aljunied</td>\n",
       "      <td>54.225758</td>\n",
       "    </tr>\n",
       "    <tr>\n",
       "      <th>1</th>\n",
       "      <td>Admiralty</td>\n",
       "      <td>Ang Mo Kio</td>\n",
       "      <td>22.035294</td>\n",
       "    </tr>\n",
       "    <tr>\n",
       "      <th>2</th>\n",
       "      <td>Admiralty</td>\n",
       "      <td>Bartley</td>\n",
       "      <td>34.966667</td>\n",
       "    </tr>\n",
       "    <tr>\n",
       "      <th>3</th>\n",
       "      <td>Admiralty</td>\n",
       "      <td>Bayfront</td>\n",
       "      <td>53.339474</td>\n",
       "    </tr>\n",
       "    <tr>\n",
       "      <th>4</th>\n",
       "      <td>Admiralty</td>\n",
       "      <td>Bedok</td>\n",
       "      <td>56.683333</td>\n",
       "    </tr>\n",
       "    <tr>\n",
       "      <th>5</th>\n",
       "      <td>Admiralty</td>\n",
       "      <td>Bishan</td>\n",
       "      <td>26.139344</td>\n",
       "    </tr>\n",
       "    <tr>\n",
       "      <th>6</th>\n",
       "      <td>Admiralty</td>\n",
       "      <td>Boon Keng</td>\n",
       "      <td>45.030000</td>\n",
       "    </tr>\n",
       "    <tr>\n",
       "      <th>7</th>\n",
       "      <td>Admiralty</td>\n",
       "      <td>Boon Lay</td>\n",
       "      <td>39.668137</td>\n",
       "    </tr>\n",
       "    <tr>\n",
       "      <th>8</th>\n",
       "      <td>Admiralty</td>\n",
       "      <td>Botanic Gardens</td>\n",
       "      <td>40.691667</td>\n",
       "    </tr>\n",
       "    <tr>\n",
       "      <th>9</th>\n",
       "      <td>Admiralty</td>\n",
       "      <td>Braddell</td>\n",
       "      <td>28.303571</td>\n",
       "    </tr>\n",
       "    <tr>\n",
       "      <th>10</th>\n",
       "      <td>Admiralty</td>\n",
       "      <td>Bras Basah</td>\n",
       "      <td>46.439583</td>\n",
       "    </tr>\n",
       "    <tr>\n",
       "      <th>11</th>\n",
       "      <td>Admiralty</td>\n",
       "      <td>Bugis</td>\n",
       "      <td>48.361702</td>\n",
       "    </tr>\n",
       "    <tr>\n",
       "      <th>12</th>\n",
       "      <td>Admiralty</td>\n",
       "      <td>Bukit Batok</td>\n",
       "      <td>27.002652</td>\n",
       "    </tr>\n",
       "    <tr>\n",
       "      <th>13</th>\n",
       "      <td>Admiralty</td>\n",
       "      <td>Bukit Gombak</td>\n",
       "      <td>23.987963</td>\n",
       "    </tr>\n",
       "    <tr>\n",
       "      <th>14</th>\n",
       "      <td>Admiralty</td>\n",
       "      <td>Bukit Panjang</td>\n",
       "      <td>32.566667</td>\n",
       "    </tr>\n",
       "    <tr>\n",
       "      <th>15</th>\n",
       "      <td>Admiralty</td>\n",
       "      <td>Buona Vista</td>\n",
       "      <td>43.391667</td>\n",
       "    </tr>\n",
       "    <tr>\n",
       "      <th>16</th>\n",
       "      <td>Admiralty</td>\n",
       "      <td>Caldecott</td>\n",
       "      <td>42.916667</td>\n",
       "    </tr>\n",
       "    <tr>\n",
       "      <th>17</th>\n",
       "      <td>Admiralty</td>\n",
       "      <td>Changi Airport</td>\n",
       "      <td>73.685185</td>\n",
       "    </tr>\n",
       "    <tr>\n",
       "      <th>18</th>\n",
       "      <td>Admiralty</td>\n",
       "      <td>Chinatown</td>\n",
       "      <td>50.579570</td>\n",
       "    </tr>\n",
       "    <tr>\n",
       "      <th>19</th>\n",
       "      <td>Admiralty</td>\n",
       "      <td>Chinese Garden</td>\n",
       "      <td>45.166667</td>\n",
       "    </tr>\n",
       "    <tr>\n",
       "      <th>20</th>\n",
       "      <td>Admiralty</td>\n",
       "      <td>Choa Chu Kang</td>\n",
       "      <td>21.564931</td>\n",
       "    </tr>\n",
       "    <tr>\n",
       "      <th>21</th>\n",
       "      <td>Admiralty</td>\n",
       "      <td>City Hall</td>\n",
       "      <td>42.897040</td>\n",
       "    </tr>\n",
       "    <tr>\n",
       "      <th>22</th>\n",
       "      <td>Admiralty</td>\n",
       "      <td>Clarke Quay</td>\n",
       "      <td>48.120833</td>\n",
       "    </tr>\n",
       "    <tr>\n",
       "      <th>23</th>\n",
       "      <td>Admiralty</td>\n",
       "      <td>Clementi</td>\n",
       "      <td>37.210345</td>\n",
       "    </tr>\n",
       "    <tr>\n",
       "      <th>24</th>\n",
       "      <td>Admiralty</td>\n",
       "      <td>Commonwealth</td>\n",
       "      <td>44.778788</td>\n",
       "    </tr>\n",
       "    <tr>\n",
       "      <th>25</th>\n",
       "      <td>Admiralty</td>\n",
       "      <td>Coral Edge</td>\n",
       "      <td>54.233333</td>\n",
       "    </tr>\n",
       "    <tr>\n",
       "      <th>26</th>\n",
       "      <td>Admiralty</td>\n",
       "      <td>Dakota</td>\n",
       "      <td>47.904167</td>\n",
       "    </tr>\n",
       "    <tr>\n",
       "      <th>27</th>\n",
       "      <td>Admiralty</td>\n",
       "      <td>Dhoby Ghaut</td>\n",
       "      <td>41.594340</td>\n",
       "    </tr>\n",
       "    <tr>\n",
       "      <th>28</th>\n",
       "      <td>Admiralty</td>\n",
       "      <td>Dover</td>\n",
       "      <td>40.298039</td>\n",
       "    </tr>\n",
       "    <tr>\n",
       "      <th>29</th>\n",
       "      <td>Admiralty</td>\n",
       "      <td>Esplanade</td>\n",
       "      <td>49.430000</td>\n",
       "    </tr>\n",
       "    <tr>\n",
       "      <th>...</th>\n",
       "      <td>...</td>\n",
       "      <td>...</td>\n",
       "      <td>...</td>\n",
       "    </tr>\n",
       "    <tr>\n",
       "      <th>9316</th>\n",
       "      <td>one-north</td>\n",
       "      <td>Kranji</td>\n",
       "      <td>36.350000</td>\n",
       "    </tr>\n",
       "    <tr>\n",
       "      <th>9317</th>\n",
       "      <td>one-north</td>\n",
       "      <td>Labrador Park</td>\n",
       "      <td>12.016667</td>\n",
       "    </tr>\n",
       "    <tr>\n",
       "      <th>9318</th>\n",
       "      <td>one-north</td>\n",
       "      <td>Little India</td>\n",
       "      <td>27.000000</td>\n",
       "    </tr>\n",
       "    <tr>\n",
       "      <th>9319</th>\n",
       "      <td>one-north</td>\n",
       "      <td>Lorong Chuan</td>\n",
       "      <td>23.633333</td>\n",
       "    </tr>\n",
       "    <tr>\n",
       "      <th>9320</th>\n",
       "      <td>one-north</td>\n",
       "      <td>MacPherson</td>\n",
       "      <td>34.033333</td>\n",
       "    </tr>\n",
       "    <tr>\n",
       "      <th>9321</th>\n",
       "      <td>one-north</td>\n",
       "      <td>Marina Bay</td>\n",
       "      <td>33.800000</td>\n",
       "    </tr>\n",
       "    <tr>\n",
       "      <th>9322</th>\n",
       "      <td>one-north</td>\n",
       "      <td>Marymount</td>\n",
       "      <td>17.490000</td>\n",
       "    </tr>\n",
       "    <tr>\n",
       "      <th>9323</th>\n",
       "      <td>one-north</td>\n",
       "      <td>Mountbatten</td>\n",
       "      <td>38.650000</td>\n",
       "    </tr>\n",
       "    <tr>\n",
       "      <th>9324</th>\n",
       "      <td>one-north</td>\n",
       "      <td>Nicoll Highway</td>\n",
       "      <td>38.450000</td>\n",
       "    </tr>\n",
       "    <tr>\n",
       "      <th>9325</th>\n",
       "      <td>one-north</td>\n",
       "      <td>Orchard</td>\n",
       "      <td>35.983333</td>\n",
       "    </tr>\n",
       "    <tr>\n",
       "      <th>9326</th>\n",
       "      <td>one-north</td>\n",
       "      <td>Outram Park</td>\n",
       "      <td>21.566667</td>\n",
       "    </tr>\n",
       "    <tr>\n",
       "      <th>9327</th>\n",
       "      <td>one-north</td>\n",
       "      <td>Pasir Panjang</td>\n",
       "      <td>8.244444</td>\n",
       "    </tr>\n",
       "    <tr>\n",
       "      <th>9328</th>\n",
       "      <td>one-north</td>\n",
       "      <td>Paya Lebar</td>\n",
       "      <td>35.450000</td>\n",
       "    </tr>\n",
       "    <tr>\n",
       "      <th>9329</th>\n",
       "      <td>one-north</td>\n",
       "      <td>Promenade</td>\n",
       "      <td>30.366667</td>\n",
       "    </tr>\n",
       "    <tr>\n",
       "      <th>9330</th>\n",
       "      <td>one-north</td>\n",
       "      <td>Raffles Place</td>\n",
       "      <td>25.850000</td>\n",
       "    </tr>\n",
       "    <tr>\n",
       "      <th>9331</th>\n",
       "      <td>one-north</td>\n",
       "      <td>Rochor</td>\n",
       "      <td>24.900000</td>\n",
       "    </tr>\n",
       "    <tr>\n",
       "      <th>9332</th>\n",
       "      <td>one-north</td>\n",
       "      <td>Sembawang</td>\n",
       "      <td>41.416667</td>\n",
       "    </tr>\n",
       "    <tr>\n",
       "      <th>9333</th>\n",
       "      <td>one-north</td>\n",
       "      <td>Serangoon</td>\n",
       "      <td>25.772222</td>\n",
       "    </tr>\n",
       "    <tr>\n",
       "      <th>9334</th>\n",
       "      <td>one-north</td>\n",
       "      <td>Stadium</td>\n",
       "      <td>42.516667</td>\n",
       "    </tr>\n",
       "    <tr>\n",
       "      <th>9335</th>\n",
       "      <td>one-north</td>\n",
       "      <td>Tai Seng</td>\n",
       "      <td>30.150000</td>\n",
       "    </tr>\n",
       "    <tr>\n",
       "      <th>9336</th>\n",
       "      <td>one-north</td>\n",
       "      <td>Tanah Merah</td>\n",
       "      <td>49.350000</td>\n",
       "    </tr>\n",
       "    <tr>\n",
       "      <th>9337</th>\n",
       "      <td>one-north</td>\n",
       "      <td>Tanjong Pagar</td>\n",
       "      <td>24.920833</td>\n",
       "    </tr>\n",
       "    <tr>\n",
       "      <th>9338</th>\n",
       "      <td>one-north</td>\n",
       "      <td>Telok Ayer</td>\n",
       "      <td>29.000000</td>\n",
       "    </tr>\n",
       "    <tr>\n",
       "      <th>9339</th>\n",
       "      <td>one-north</td>\n",
       "      <td>Telok Blangah</td>\n",
       "      <td>12.983333</td>\n",
       "    </tr>\n",
       "    <tr>\n",
       "      <th>9340</th>\n",
       "      <td>one-north</td>\n",
       "      <td>Tiong Bahru</td>\n",
       "      <td>18.600000</td>\n",
       "    </tr>\n",
       "    <tr>\n",
       "      <th>9341</th>\n",
       "      <td>one-north</td>\n",
       "      <td>Toa Payoh</td>\n",
       "      <td>28.766667</td>\n",
       "    </tr>\n",
       "    <tr>\n",
       "      <th>9342</th>\n",
       "      <td>one-north</td>\n",
       "      <td>Woodlands</td>\n",
       "      <td>38.800000</td>\n",
       "    </tr>\n",
       "    <tr>\n",
       "      <th>9343</th>\n",
       "      <td>one-north</td>\n",
       "      <td>Woodleigh</td>\n",
       "      <td>33.083333</td>\n",
       "    </tr>\n",
       "    <tr>\n",
       "      <th>9344</th>\n",
       "      <td>one-north</td>\n",
       "      <td>Yio Chu Kang</td>\n",
       "      <td>55.283333</td>\n",
       "    </tr>\n",
       "    <tr>\n",
       "      <th>9345</th>\n",
       "      <td>one-north</td>\n",
       "      <td>Yishun</td>\n",
       "      <td>39.761111</td>\n",
       "    </tr>\n",
       "  </tbody>\n",
       "</table>\n",
       "<p>9346 rows × 3 columns</p>\n",
       "</div>"
      ],
      "text/plain": [
       "         origin      destination  timeminutetaken\n",
       "0     Admiralty         Aljunied        54.225758\n",
       "1     Admiralty       Ang Mo Kio        22.035294\n",
       "2     Admiralty          Bartley        34.966667\n",
       "3     Admiralty         Bayfront        53.339474\n",
       "4     Admiralty            Bedok        56.683333\n",
       "5     Admiralty           Bishan        26.139344\n",
       "6     Admiralty        Boon Keng        45.030000\n",
       "7     Admiralty         Boon Lay        39.668137\n",
       "8     Admiralty  Botanic Gardens        40.691667\n",
       "9     Admiralty         Braddell        28.303571\n",
       "10    Admiralty       Bras Basah        46.439583\n",
       "11    Admiralty            Bugis        48.361702\n",
       "12    Admiralty      Bukit Batok        27.002652\n",
       "13    Admiralty     Bukit Gombak        23.987963\n",
       "14    Admiralty    Bukit Panjang        32.566667\n",
       "15    Admiralty      Buona Vista        43.391667\n",
       "16    Admiralty        Caldecott        42.916667\n",
       "17    Admiralty   Changi Airport        73.685185\n",
       "18    Admiralty        Chinatown        50.579570\n",
       "19    Admiralty   Chinese Garden        45.166667\n",
       "20    Admiralty    Choa Chu Kang        21.564931\n",
       "21    Admiralty        City Hall        42.897040\n",
       "22    Admiralty      Clarke Quay        48.120833\n",
       "23    Admiralty         Clementi        37.210345\n",
       "24    Admiralty     Commonwealth        44.778788\n",
       "25    Admiralty       Coral Edge        54.233333\n",
       "26    Admiralty           Dakota        47.904167\n",
       "27    Admiralty      Dhoby Ghaut        41.594340\n",
       "28    Admiralty            Dover        40.298039\n",
       "29    Admiralty        Esplanade        49.430000\n",
       "...         ...              ...              ...\n",
       "9316  one-north           Kranji        36.350000\n",
       "9317  one-north    Labrador Park        12.016667\n",
       "9318  one-north     Little India        27.000000\n",
       "9319  one-north     Lorong Chuan        23.633333\n",
       "9320  one-north       MacPherson        34.033333\n",
       "9321  one-north       Marina Bay        33.800000\n",
       "9322  one-north        Marymount        17.490000\n",
       "9323  one-north      Mountbatten        38.650000\n",
       "9324  one-north   Nicoll Highway        38.450000\n",
       "9325  one-north          Orchard        35.983333\n",
       "9326  one-north      Outram Park        21.566667\n",
       "9327  one-north    Pasir Panjang         8.244444\n",
       "9328  one-north       Paya Lebar        35.450000\n",
       "9329  one-north        Promenade        30.366667\n",
       "9330  one-north    Raffles Place        25.850000\n",
       "9331  one-north           Rochor        24.900000\n",
       "9332  one-north        Sembawang        41.416667\n",
       "9333  one-north        Serangoon        25.772222\n",
       "9334  one-north          Stadium        42.516667\n",
       "9335  one-north         Tai Seng        30.150000\n",
       "9336  one-north      Tanah Merah        49.350000\n",
       "9337  one-north    Tanjong Pagar        24.920833\n",
       "9338  one-north       Telok Ayer        29.000000\n",
       "9339  one-north    Telok Blangah        12.983333\n",
       "9340  one-north      Tiong Bahru        18.600000\n",
       "9341  one-north        Toa Payoh        28.766667\n",
       "9342  one-north        Woodlands        38.800000\n",
       "9343  one-north        Woodleigh        33.083333\n",
       "9344  one-north     Yio Chu Kang        55.283333\n",
       "9345  one-north           Yishun        39.761111\n",
       "\n",
       "[9346 rows x 3 columns]"
      ]
     },
     "execution_count": 749,
     "metadata": {},
     "output_type": "execute_result"
    }
   ],
   "source": [
    "# This is the matrix which will be used to find neighbors\n",
    "\n",
    "origindestinationminutetaken = dfclean.groupby(['origin','destination']).timeminutetaken.mean().reset_index()\n",
    "\n",
    "origindestinationminutetaken"
   ]
  },
  {
   "cell_type": "markdown",
   "metadata": {
    "collapsed": true
   },
   "source": [
    "\n",
    "## Qn 1\n",
    "### Finding the network"
   ]
  },
  {
   "cell_type": "code",
   "execution_count": 750,
   "metadata": {
    "collapsed": true
   },
   "outputs": [],
   "source": [
    "# Getting the time of the node1 and node2\n",
    "# Assumption direction does not matter  (mean approach)\n",
    "def getnode1andnode2time (node1,node2):\n",
    "    nodeset = [node1,node2]\n",
    "    startendwithinorigin = (origindestinationminutetaken.origin.isin(nodeset))\n",
    "    startendwithindestination = (origindestinationminutetaken.destination.isin(nodeset))\n",
    "\n",
    "    return origindestinationminutetaken.loc[startendwithinorigin&startendwithindestination,:].timeminutetaken.median()\n"
   ]
  },
  {
   "cell_type": "code",
   "execution_count": 751,
   "metadata": {
    "collapsed": false
   },
   "outputs": [],
   "source": [
    "\n",
    "# Create a chain of network using the existing nodes\n",
    "\n",
    "def chainingexistingnode(existingstations,existingchain):\n",
    "#     Remove starting existing_node in existingchain\n",
    "    existing_nodes = list(existingstations)\n",
    "    existing_nodes.remove(existingchain[0])\n",
    "    existing_nodes.remove(existingchain[1])\n",
    "    for node in existing_nodes:\n",
    "        for i in range(0,len(existingchain)-1):\n",
    "            chain=existingchain\n",
    "            start,end = chain[i],chain[i+1]\n",
    "            startendtime = getnode1andnode2time(start,end)\n",
    "            startnodetime = getnode1andnode2time(start,node)\n",
    "            endnodetime = getnode1andnode2time(node,end)\n",
    "            if (startnodetime<startendtime )&(endnodetime<startendtime)&~(node in existingchain):\n",
    "                existingchain.insert(i+1,node)\n",
    "    \n",
    "    return existingchain\n",
    "\n"
   ]
  },
  {
   "cell_type": "markdown",
   "metadata": {},
   "source": [
    "# Proof of concept:"
   ]
  },
  {
   "cell_type": "code",
   "execution_count": 752,
   "metadata": {
    "collapsed": false
   },
   "outputs": [
    {
     "name": "stdout",
     "output_type": "stream",
     "text": [
      "13.719230769230771\n",
      "10.178657074340535\n",
      "7.919246031746031\n"
     ]
    }
   ],
   "source": [
    "\n",
    "# Let's say that in between dhoby ghaut and harbourfront there is chinatown\n",
    "# First we need to find the time from dhoby ghaut to harbourfront\n",
    "chaintime = getnode1andnode2time('HarbourFront','Dhoby Ghaut')\n",
    "# then we find the time from Chinatown to harbourfront and dhobyghaut to chinatown\n",
    "chtime = getnode1andnode2time('HarbourFront','Chinatown')\n",
    "dctime =getnode1andnode2time('Dhoby Ghaut','Chinatown')\n",
    "\n",
    "print(chaintime)\n",
    "print(chtime)\n",
    "print(dctime)\n",
    "\n",
    "# Therefore since the both the time is in between \n",
    "# Chinatown should be put inside the chain\n",
    "# Then the possible start and end of the chain will now include, harborfront-->Chinatown and DhobyGhaut--> Chinatown\n"
   ]
  },
  {
   "cell_type": "code",
   "execution_count": 753,
   "metadata": {
    "collapsed": false
   },
   "outputs": [],
   "source": [
    "\n",
    "# chainingexistingnode\n",
    "\n",
    "finalchain = chainingexistingnode(existingstations,['HarbourFront','Dhoby Ghaut'])\n"
   ]
  },
  {
   "cell_type": "code",
   "execution_count": 754,
   "metadata": {
    "collapsed": false
   },
   "outputs": [
    {
     "data": {
      "text/plain": [
       "['HarbourFront', 'Outram Park', 'Clarke Quay', 'Dhoby Ghaut']"
      ]
     },
     "execution_count": 754,
     "metadata": {},
     "output_type": "execute_result"
    }
   ],
   "source": [
    "finalchain"
   ]
  },
  {
   "cell_type": "markdown",
   "metadata": {},
   "source": [
    "## Next 3 lines of code are for q3.\n",
    "###  Adding on clementi and kallang for qn3\n",
    "\n"
   ]
  },
  {
   "cell_type": "code",
   "execution_count": 755,
   "metadata": {
    "collapsed": true
   },
   "outputs": [],
   "source": [
    "centralendnodesdf.loc[-1] = ['Clementi','Kallang',0]\n"
   ]
  },
  {
   "cell_type": "code",
   "execution_count": 756,
   "metadata": {
    "collapsed": true
   },
   "outputs": [],
   "source": [
    "centralendnodesdf.index=centralendnodesdf.index+1\n"
   ]
  },
  {
   "cell_type": "code",
   "execution_count": 757,
   "metadata": {
    "collapsed": false
   },
   "outputs": [
    {
     "name": "stderr",
     "output_type": "stream",
     "text": [
      "C:\\Users\\Ranon Sim\\Anaconda3\\lib\\site-packages\\ipykernel\\__main__.py:2: FutureWarning: sort(....) is deprecated, use sort_index(.....)\n",
      "  from ipykernel import kernelapp as app\n"
     ]
    }
   ],
   "source": [
    "\n",
    "centralendnodesdf.sort(inplace=True)\n",
    "\n",
    "\n",
    "# ## Repeat this procedure and change the existingnodes to the rows by centralendnodesdf\n"
   ]
  },
  {
   "cell_type": "code",
   "execution_count": 758,
   "metadata": {
    "collapsed": true
   },
   "outputs": [],
   "source": [
    "listofstartandend = centralendnodesdf.as_matrix(columns=['origin','destination']).tolist()\n"
   ]
  },
  {
   "cell_type": "code",
   "execution_count": 759,
   "metadata": {
    "collapsed": true
   },
   "outputs": [],
   "source": [
    "# Find list of tuples\n",
    "def tuplelistfromchain(chains):\n",
    "    tuplelist = []\n",
    "    for chain in chains:\n",
    "        for i in range(0,len(chain)-1):\n",
    "            tuplelist.append((chain[i],chain[i+1]))\n",
    "    return tuplelist"
   ]
  },
  {
   "cell_type": "markdown",
   "metadata": {},
   "source": [
    "### GENERATING THE MRT NETWORK VISUALIZATION "
   ]
  },
  {
   "cell_type": "code",
   "execution_count": 760,
   "metadata": {
    "collapsed": false,
    "scrolled": false
   },
   "outputs": [
    {
     "name": "stdout",
     "output_type": "stream",
     "text": [
      "Nodes of graph: \n",
      "['Marymount', 'Newton', 'Dover', 'Somerset', 'Bishan', 'Dhoby Ghaut', 'Novena', 'Farrer Park', 'Thanggam', 'Clarke Quay', 'Buangkok', 'City Hall', 'Bugis', 'South View', 'Cheng Lim', 'Clementi', 'Orchard', 'Rochor', 'HarbourFront', 'Farrer Road', 'Paya Lebar', 'Botanic Gardens', 'Sam Kee', 'Layar', 'Renjong', 'Sengkang', 'Kallang', 'Holland Village', 'Fernvale', 'Tongkang', 'Punggol', 'Boon Keng', 'Caldecott', 'Lavender', 'Toa Payoh', 'Raffles Place', 'Petir', 'Farmway', 'Braddell', 'Buona Vista', 'Little India', 'Outram Park']\n",
      "Edges of graph: \n",
      "[('Marymount', 'Caldecott'), ('Marymount', 'Bishan'), ('Newton', 'Novena'), ('Newton', 'Rochor'), ('Newton', 'Little India'), ('Newton', 'Dhoby Ghaut'), ('Dover', 'Clementi'), ('Dover', 'Buona Vista'), ('Somerset', 'City Hall'), ('Somerset', 'Orchard'), ('Bishan', 'Braddell'), ('Dhoby Ghaut', 'Cheng Lim'), ('Dhoby Ghaut', 'Little India'), ('Dhoby Ghaut', 'Clarke Quay'), ('Novena', 'Toa Payoh'), ('Farrer Park', 'Boon Keng'), ('Farrer Park', 'Little India'), ('Thanggam', 'Tongkang'), ('Thanggam', 'Cheng Lim'), ('Clarke Quay', 'Outram Park'), ('Buangkok', 'Renjong'), ('Buangkok', 'Punggol'), ('City Hall', 'Little India'), ('City Hall', 'Bugis'), ('Bugis', 'Rochor'), ('Bugis', 'Cheng Lim'), ('Bugis', 'Petir'), ('South View', 'Paya Lebar'), ('South View', 'Lavender'), ('Cheng Lim', 'Sengkang'), ('Orchard', 'Raffles Place'), ('Rochor', 'Little India'), ('HarbourFront', 'Outram Park'), ('Farrer Road', 'Holland Village'), ('Farrer Road', 'Botanic Gardens'), ('Paya Lebar', 'Sam Kee'), ('Botanic Gardens', 'Caldecott'), ('Sam Kee', 'Little India'), ('Layar', 'Tongkang'), ('Layar', 'Fernvale'), ('Renjong', 'Farmway'), ('Sengkang', 'Tongkang'), ('Sengkang', 'Farmway'), ('Kallang', 'Lavender'), ('Holland Village', 'Buona Vista'), ('Toa Payoh', 'Braddell'), ('Raffles Place', 'Petir')]\n"
     ]
    },
    {
     "data": {
      "image/png": "[encoded data removed]",
      "text/plain": [
       "<matplotlib.figure.Figure at 0x1f07313de48>"
      ]
     },
     "metadata": {},
     "output_type": "display_data"
    },
    {
     "name": "stdout",
     "output_type": "stream",
     "text": [
      "Wall time: 639 ms\n"
     ]
    }
   ],
   "source": [
    "\n",
    "get_ipython().run_cell_magic(u'time', u'', u'\\nimport networkx as nx\\n\\nG=nx.Graph()\\n# G.add_nodes_from(existingstations)\\n\\n# adding a list of edges:\\nG.add_edges_from(tuplelistfromchain(chains[:10]))\\n\\nusedstations = G.nodes()\\nusededges = G.edges()\\n\\nprint(\"Nodes of graph: \")\\nprint(usedstations)\\nprint(\"Edges of graph: \")\\nprint(usededges)\\n \\nplt.figure(figsize=(16,12)) \\nnx.draw(G, node_size = 300, node_color=\"cyan\", with_labels = True)\\nplt.savefig(\"simple_path.png\") # save as png\\nplt.show() # display')\n"
   ]
  },
  {
   "cell_type": "markdown",
   "metadata": {},
   "source": [
    "## QUESTION 2 "
   ]
  },
  {
   "cell_type": "markdown",
   "metadata": {
    "collapsed": true
   },
   "source": [
    "\n",
    "### Approach \n",
    "#### 1. Specify relevant chains that has station A and B \n",
    "#### 2. Find the demand of the connections in between A to B (Includes pairs of the destinations)\n",
    "#### 3. Connections would include all the chains that goes before A \n",
    "#### 4. Perform blocking of the train capacity based on on peak and off peak timing\n",
    "#### *Estimation of Trains Travelled = Number of passengers along the path from A to B /  Train Capacity*\n",
    "\n",
    "### Assumptions\n",
    "#### 1. Capacity during rush hours (7.30-9.30am,5.30pm-7.30pm ) --> Assuming full capacity of trains\n",
    "#### 2. Capacity during non rush hours ()\n",
    "#### 3. How many people can fit in mrt?\n",
    "#### 4. One way directions"
   ]
  },
  {
   "cell_type": "markdown",
   "metadata": {},
   "source": [
    "## GLOBAL NODES - INPUT STATION & STATION B HERE FOR Q2"
   ]
  },
  {
   "cell_type": "code",
   "execution_count": 761,
   "metadata": {
    "collapsed": true
   },
   "outputs": [],
   "source": [
    "\n",
    "globalnodea='Kovan'\n",
    "globalnodeb='Botanic Gardens'"
   ]
  },
  {
   "cell_type": "code",
   "execution_count": 762,
   "metadata": {
    "collapsed": true
   },
   "outputs": [],
   "source": [
    "# generate relevantchains\n",
    "def generaterelevantchains(chainlist,startnode,endnode):\n",
    "    chainchosens = []  \n",
    "    for chain in chainlist:\n",
    "    #     Getting the chain\n",
    "        if (startnode in chain) & (endnode in chain):\n",
    "            chainchosens.append(chain)\n",
    "    return chainchosens\n"
   ]
  },
  {
   "cell_type": "code",
   "execution_count": 763,
   "metadata": {
    "collapsed": true
   },
   "outputs": [],
   "source": [
    "# Remove redundancy i.e. chains that are repeated but with order switched around\n",
    "def removelistredundancy(relevantchains):\n",
    "    for i in range(0,len(relevantchains)-1):\n",
    "        for j in range(i,len(relevantchains)-1):\n",
    "            if set(relevantchains[i])==set(relevantchains[j]):\n",
    "                relevantchains.remove(relevantchains[i])\n",
    "    return relevantchains\n",
    "\n"
   ]
  },
  {
   "cell_type": "code",
   "execution_count": 764,
   "metadata": {
    "collapsed": false,
    "scrolled": true
   },
   "outputs": [],
   "source": [
    "# DATAFRAME OF TRAFFIC COUNT FOR EVERY UNIQUE EDGE \n",
    "origindestinationtraffic = dfclean.groupby(['origin','destination']).count().timeperiod.reset_index().rename(columns={'timeperiod':'counttraffic'})\n",
    "\n",
    "## METHOD TO COUNT TRAFFIC BETWEEN EDGES\n",
    "def getnode1andnode2traffic (node1,node2):\n",
    "    nodeset = [node1,node2]\n",
    "    startendwithinorigin = (origindestinationtraffic.origin==node1)&(origindestinationtraffic.destination==node2)\n",
    "\n",
    "    try:\n",
    "        return origindestinationtraffic.loc[startendwithinorigin,:].counttraffic.values[0]\n",
    "    except:\n",
    "        return 0"
   ]
  },
  {
   "cell_type": "code",
   "execution_count": 765,
   "metadata": {
    "collapsed": false
   },
   "outputs": [
    {
     "data": {
      "text/html": [
       "<div>\n",
       "<table border=\"1\" class=\"dataframe\">\n",
       "  <thead>\n",
       "    <tr style=\"text-align: right;\">\n",
       "      <th></th>\n",
       "      <th>origin</th>\n",
       "      <th>destination</th>\n",
       "      <th>counttraffic</th>\n",
       "    </tr>\n",
       "  </thead>\n",
       "  <tbody>\n",
       "    <tr>\n",
       "      <th>4634</th>\n",
       "      <td>Kovan</td>\n",
       "      <td>Botanic Gardens</td>\n",
       "      <td>21</td>\n",
       "    </tr>\n",
       "  </tbody>\n",
       "</table>\n",
       "</div>"
      ],
      "text/plain": [
       "     origin      destination  counttraffic\n",
       "4634  Kovan  Botanic Gardens            21"
      ]
     },
     "execution_count": 765,
     "metadata": {},
     "output_type": "execute_result"
    }
   ],
   "source": [
    "    startendwithinorigin = (origindestinationtraffic.origin==globalnodea)&(origindestinationtraffic.destination==globalnodeb)\n",
    "    origindestinationtraffic[startendwithinorigin]\n"
   ]
  },
  {
   "cell_type": "code",
   "execution_count": 766,
   "metadata": {
    "collapsed": false
   },
   "outputs": [
    {
     "data": {
      "text/plain": [
       "21"
      ]
     },
     "execution_count": 766,
     "metadata": {},
     "output_type": "execute_result"
    }
   ],
   "source": [
    "\n",
    "## PROOF OF CONCEPT TO CALCULATE TRAFFIC BETWEEN NODE A & NODE B \n",
    "\n",
    "getnode1andnode2traffic(globalnodea,globalnodeb)\n",
    "\n"
   ]
  },
  {
   "cell_type": "code",
   "execution_count": 767,
   "metadata": {
    "collapsed": true
   },
   "outputs": [],
   "source": [
    "# Buona vista to dover connection\n",
    "# connection = sum(traffic er RD,TD,BD)\n",
    "\n",
    "def findEdgeTraffic(chain,nodea,nodeb):\n",
    "    edgetraffic=0\n",
    "    lhs=chain[:chain.index(nodea)+1]\n",
    "    rhs=chain[chain.index(nodeb):]\n",
    "    for node1 in lhs:\n",
    "        for node2 in rhs:\n",
    "            edgetraffic+=getnode1andnode2traffic(node1,node2)\n",
    "    return edgetraffic\n"
   ]
  },
  {
   "cell_type": "code",
   "execution_count": 768,
   "metadata": {
    "collapsed": true
   },
   "outputs": [],
   "source": [
    "\n",
    "\n",
    "# Getting max connection from globenodea and globenodeb\n",
    "def findingthemaxedge(travelchain,nodea,nodeb):\n",
    "    edgelist=[]\n",
    "\n",
    "    nodeatonodeb = travelchain[travelchain.index(nodea):travelchain.index(nodeb)+1]\n",
    "    if nodeatonodeb ==[]:\n",
    "        tchain=list(travelchain)\n",
    "        nodeatonodeb = tchain.reverse()[tchain.index(nodeb):tchain.index(nodea)+1]\n",
    "        \n",
    "    tuplelist = [(nodeatonodeb[i],nodeatonodeb[i+1]) for i in range(0,len(nodeatonodeb)-1)]\n",
    "\n",
    "    for tuple in tuplelist:\n",
    "        edgelist.append(findEdgeTraffic(travelchain,tuple[0],tuple[1]))\n",
    "        print('from: '+str(tuple[0])+',to '+str(tuple[1])+':'+str(findEdgeTraffic(travelchain,tuple[0],tuple[1])))\n",
    "#     print(edgelist)\n",
    "    return max(edgelist)\n",
    "    \n",
    "# findingthemaxconnection (travelchain,globalnodea,globalnodeb)\n",
    "\n",
    "\n",
    "# # All the chains of relevant stations"
   ]
  },
  {
   "cell_type": "code",
   "execution_count": 769,
   "metadata": {
    "collapsed": true
   },
   "outputs": [],
   "source": [
    "def demandsofchain(chains,globalnodea,globalnodeb):\n",
    "    totalnumberofdemands=0\n",
    "    relevantoriginalchains = removelistredundancy(generaterelevantchains(chains,globalnodea,globalnodeb))\n",
    "    for chain in relevantoriginalchains:\n",
    "        totalnumberofdemands += findingthemaxedge(chain,globalnodea,globalnodeb)\n",
    "\n",
    "    return totalnumberofdemands\n"
   ]
  },
  {
   "cell_type": "code",
   "execution_count": 770,
   "metadata": {
    "collapsed": false
   },
   "outputs": [
    {
     "name": "stdout",
     "output_type": "stream",
     "text": [
      "0\n"
     ]
    }
   ],
   "source": [
    "totalDemandOfChains = demandsofchain(chains,globalnodea,globalnodeb)\n",
    "\n",
    "# ## To consider on peak and off peak\n",
    "# 1. On peak =4 hours\n",
    "# 2. Train hours = 18 hours\n",
    "# 3. Therefore, offpeak hours =14 hours\n",
    "# 4. onpeak = 95% demands\n",
    "# 5. offpeak = 75% * onpeak\n",
    "# \n",
    "# Train capacity\n",
    "# 1. 100 - at full capacity (sample)\n",
    "\n",
    "print(totalDemandOfChains)"
   ]
  },
  {
   "cell_type": "code",
   "execution_count": 771,
   "metadata": {
    "collapsed": false
   },
   "outputs": [
    {
     "ename": "SyntaxError",
     "evalue": "invalid syntax (<ipython-input-771-ef4d065626e4>, line 7)",
     "output_type": "error",
     "traceback": [
      "\u001b[0;36m  File \u001b[0;32m\"<ipython-input-771-ef4d065626e4>\"\u001b[0;36m, line \u001b[0;32m7\u001b[0m\n\u001b[0;31m    print (\"Total Trains Travelled Between:\" totaldemand\u001b[0m\n\u001b[0m                                                       ^\u001b[0m\n\u001b[0;31mSyntaxError\u001b[0m\u001b[0;31m:\u001b[0m invalid syntax\n"
     ]
    }
   ],
   "source": [
    "onpeak = totalDemandOfChains*0.95\n",
    "offpeak = onpeak*0.75\n",
    "print(onpeak)\n",
    "print(offpeak)\n",
    "# totaldemand =  onpeak + proportionateofoffpeak*offpeak (buffer)\n",
    "totaldemand = onpeak+(float(14)/18)*offpeak\n",
    "print (\"Total Trains Travelled Between:\" totaldemand"
   ]
  },
  {
   "cell_type": "markdown",
   "metadata": {},
   "source": [
    "## Q2 ANSWER : TRAINS TRAVELLED "
   ]
  },
  {
   "cell_type": "code",
   "execution_count": 772,
   "metadata": {
    "collapsed": false
   },
   "outputs": [
    {
     "name": "stdout",
     "output_type": "stream",
     "text": [
      "Total Trains Travelled between: Kovan & Botanic Gardens = 3\n"
     ]
    }
   ],
   "source": [
    "import math\n",
    "\n",
    "Q2 = math.ceil(totaldemand/931)\n",
    "print(\"Total Trains Travelled between: \" + globalnodea +\" & \" + globalnodeb + \" = \" + str(Q2))\n",
    "\n"
   ]
  },
  {
   "cell_type": "markdown",
   "metadata": {},
   "source": [
    "## QUESTION 3 \n",
    "\n",
    "Suppose a commuter wants to board at clementi and alight at kallang station. Can you determine the number of people in the train at every station along the path from clementi ato kallang starting from 9.25 am?\n"
   ]
  },
  {
   "cell_type": "code",
   "execution_count": 773,
   "metadata": {
    "collapsed": false
   },
   "outputs": [
    {
     "name": "stdout",
     "output_type": "stream",
     "text": [
      "3\n"
     ]
    }
   ],
   "source": [
    "import math\n",
    "capacityonetrain = 900\n",
    "totalnumberoftrains = totaldemand/capacityonetrain\n",
    "print(math.ceil(totalnumberoftrains))\n",
    "\n"
   ]
  },
  {
   "cell_type": "code",
   "execution_count": 774,
   "metadata": {
    "collapsed": true
   },
   "outputs": [],
   "source": [
    "\n",
    "# nodea='Clementi'\n",
    "# nodeb='Kallang'\n",
    "# print(demandsofchain(chains,nodea,nodeb))\n",
    "\n",
    "\n",
    "# 1. Assigning timewindow of each station in the chain\n",
    "# 2. Filtering the people in each chain\n",
    "# 3. Use the chain to find the number of people within each station\n",
    "\n",
    "\n",
    "\n",
    "## ASSUMPTION: \n",
    "#### There is only one path to consider in between the two nodes -> If there's more than one path, we just pick one for a proof of concept\n",
    "#### The likelihood of there being >1 path isn't very large"
   ]
  },
  {
   "cell_type": "code",
   "execution_count": 782,
   "metadata": {
    "collapsed": false
   },
   "outputs": [],
   "source": [
    "\n",
    "globalnodea='Clementi'\n",
    "globalnodeb='Kallang'\n",
    "chain= removelistredundancy(generaterelevantchains(chains,globalnodea,globalnodeb))[0]\n",
    "\n"
   ]
  },
  {
   "cell_type": "code",
   "execution_count": 783,
   "metadata": {
    "collapsed": false,
    "scrolled": true
   },
   "outputs": [],
   "source": [
    "startingtime=datetime.strptime('09:25:00','%H:%M:%S')\n",
    "for i in range(0,len(chain)-1):\n",
    "    dfclean.loc[(dfclean.origin==chain[i]),'timewindowstart'] = startingtime+pd.Timedelta(minutes=getnode1andnode2time (chain[i],chain[i+1])*i)\n",
    "    dfclean.loc[(dfclean.origin==chain[i]),'timewindowend'] = startingtime+pd.Timedelta(minutes=getnode1andnode2time (chain[i],chain[i+1])*(i+1))\n",
    "\n"
   ]
  },
  {
   "cell_type": "code",
   "execution_count": 784,
   "metadata": {
    "collapsed": false
   },
   "outputs": [],
   "source": [
    "dfclean.loc[:,'timedateorigin']=pd.to_datetime(dfclean.origin_tm,format='%H:%M:%S')\n"
   ]
  },
  {
   "cell_type": "code",
   "execution_count": 785,
   "metadata": {
    "collapsed": true
   },
   "outputs": [],
   "source": [
    "# Filling in the gap of timewindowstart and timewindowend\n",
    "dfclean=dfclean.fillna(0)\n"
   ]
  },
  {
   "cell_type": "code",
   "execution_count": 786,
   "metadata": {
    "collapsed": true
   },
   "outputs": [],
   "source": [
    "timeoriginisinbetween= (dfclean.timewindowstart<dfclean.timedateorigin)&(dfclean.timedateorigin<dfclean.timewindowend)\n",
    "dfclean=dfclean.loc[timeoriginisinbetween,:]\n",
    "\n"
   ]
  },
  {
   "cell_type": "code",
   "execution_count": 787,
   "metadata": {
    "collapsed": false
   },
   "outputs": [
    {
     "data": {
      "text/html": [
       "<div>\n",
       "<table border=\"1\" class=\"dataframe\">\n",
       "  <thead>\n",
       "    <tr style=\"text-align: right;\">\n",
       "      <th></th>\n",
       "      <th>index</th>\n",
       "      <th>destination</th>\n",
       "      <th>destination_tm</th>\n",
       "      <th>origin</th>\n",
       "      <th>origin_tm</th>\n",
       "      <th>timeperiod</th>\n",
       "      <th>timeminutetaken</th>\n",
       "      <th>timewindowstart</th>\n",
       "      <th>timewindowend</th>\n",
       "      <th>timedateorigin</th>\n",
       "    </tr>\n",
       "  </thead>\n",
       "  <tbody>\n",
       "    <tr>\n",
       "      <th>500</th>\n",
       "      <td>500</td>\n",
       "      <td>Jurong East</td>\n",
       "      <td>09:37:28</td>\n",
       "      <td>Clementi</td>\n",
       "      <td>09:28:13</td>\n",
       "      <td>00:09:15</td>\n",
       "      <td>9.250000</td>\n",
       "      <td>1900-01-01 09:25:00.000000</td>\n",
       "      <td>1900-01-01 09:31:55.025794</td>\n",
       "      <td>1900-01-01 09:28:13</td>\n",
       "    </tr>\n",
       "    <tr>\n",
       "      <th>512</th>\n",
       "      <td>512</td>\n",
       "      <td>Kent Ridge</td>\n",
       "      <td>09:43:59</td>\n",
       "      <td>Buona Vista</td>\n",
       "      <td>09:36:33</td>\n",
       "      <td>00:07:26</td>\n",
       "      <td>7.433333</td>\n",
       "      <td>1900-01-01 09:33:54.603030</td>\n",
       "      <td>1900-01-01 09:38:21.904545</td>\n",
       "      <td>1900-01-01 09:36:33</td>\n",
       "    </tr>\n",
       "    <tr>\n",
       "      <th>734</th>\n",
       "      <td>734</td>\n",
       "      <td>HarbourFront</td>\n",
       "      <td>10:01:41</td>\n",
       "      <td>Clementi</td>\n",
       "      <td>09:30:31</td>\n",
       "      <td>00:31:10</td>\n",
       "      <td>31.166667</td>\n",
       "      <td>1900-01-01 09:25:00.000000</td>\n",
       "      <td>1900-01-01 09:31:55.025794</td>\n",
       "      <td>1900-01-01 09:30:31</td>\n",
       "    </tr>\n",
       "    <tr>\n",
       "      <th>1823</th>\n",
       "      <td>1823</td>\n",
       "      <td>Raffles Place</td>\n",
       "      <td>09:56:44</td>\n",
       "      <td>Clementi</td>\n",
       "      <td>09:30:41</td>\n",
       "      <td>00:26:03</td>\n",
       "      <td>26.050000</td>\n",
       "      <td>1900-01-01 09:25:00.000000</td>\n",
       "      <td>1900-01-01 09:31:55.025794</td>\n",
       "      <td>1900-01-01 09:30:41</td>\n",
       "    </tr>\n",
       "    <tr>\n",
       "      <th>1914</th>\n",
       "      <td>1914</td>\n",
       "      <td>Chinatown</td>\n",
       "      <td>09:52:02</td>\n",
       "      <td>Clementi</td>\n",
       "      <td>09:25:31</td>\n",
       "      <td>00:26:31</td>\n",
       "      <td>26.516667</td>\n",
       "      <td>1900-01-01 09:25:00.000000</td>\n",
       "      <td>1900-01-01 09:31:55.025794</td>\n",
       "      <td>1900-01-01 09:25:31</td>\n",
       "    </tr>\n",
       "    <tr>\n",
       "      <th>2295</th>\n",
       "      <td>2295</td>\n",
       "      <td>Orchard</td>\n",
       "      <td>10:07:13</td>\n",
       "      <td>Clementi</td>\n",
       "      <td>09:31:38</td>\n",
       "      <td>00:35:35</td>\n",
       "      <td>35.583333</td>\n",
       "      <td>1900-01-01 09:25:00.000000</td>\n",
       "      <td>1900-01-01 09:31:55.025794</td>\n",
       "      <td>1900-01-01 09:31:38</td>\n",
       "    </tr>\n",
       "    <tr>\n",
       "      <th>2976</th>\n",
       "      <td>2976</td>\n",
       "      <td>Pasir Ris</td>\n",
       "      <td>10:44:02</td>\n",
       "      <td>Farrer Road</td>\n",
       "      <td>09:52:17</td>\n",
       "      <td>00:51:45</td>\n",
       "      <td>51.750000</td>\n",
       "      <td>1900-01-01 09:47:48.571429</td>\n",
       "      <td>1900-01-01 09:53:30.714286</td>\n",
       "      <td>1900-01-01 09:52:17</td>\n",
       "    </tr>\n",
       "    <tr>\n",
       "      <th>3199</th>\n",
       "      <td>3199</td>\n",
       "      <td>one-north</td>\n",
       "      <td>09:39:42</td>\n",
       "      <td>Clementi</td>\n",
       "      <td>09:25:32</td>\n",
       "      <td>00:14:10</td>\n",
       "      <td>14.166667</td>\n",
       "      <td>1900-01-01 09:25:00.000000</td>\n",
       "      <td>1900-01-01 09:31:55.025794</td>\n",
       "      <td>1900-01-01 09:25:32</td>\n",
       "    </tr>\n",
       "    <tr>\n",
       "      <th>3694</th>\n",
       "      <td>3694</td>\n",
       "      <td>Bedok</td>\n",
       "      <td>10:28:16</td>\n",
       "      <td>Caldecott</td>\n",
       "      <td>09:55:57</td>\n",
       "      <td>00:32:19</td>\n",
       "      <td>32.316667</td>\n",
       "      <td>1900-01-01 09:51:51.800000</td>\n",
       "      <td>1900-01-01 09:56:20.433333</td>\n",
       "      <td>1900-01-01 09:55:57</td>\n",
       "    </tr>\n",
       "    <tr>\n",
       "      <th>3965</th>\n",
       "      <td>3965</td>\n",
       "      <td>Yio Chu Kang</td>\n",
       "      <td>10:12:36</td>\n",
       "      <td>Holland Village</td>\n",
       "      <td>09:45:52</td>\n",
       "      <td>00:26:44</td>\n",
       "      <td>26.733333</td>\n",
       "      <td>1900-01-01 09:41:38.576555</td>\n",
       "      <td>1900-01-01 09:47:11.435407</td>\n",
       "      <td>1900-01-01 09:45:52</td>\n",
       "    </tr>\n",
       "    <tr>\n",
       "      <th>4829</th>\n",
       "      <td>4829</td>\n",
       "      <td>Boon Lay</td>\n",
       "      <td>09:45:19</td>\n",
       "      <td>Clementi</td>\n",
       "      <td>09:30:16</td>\n",
       "      <td>00:15:03</td>\n",
       "      <td>15.050000</td>\n",
       "      <td>1900-01-01 09:25:00.000000</td>\n",
       "      <td>1900-01-01 09:31:55.025794</td>\n",
       "      <td>1900-01-01 09:30:16</td>\n",
       "    </tr>\n",
       "    <tr>\n",
       "      <th>5121</th>\n",
       "      <td>5121</td>\n",
       "      <td>Tanah Merah</td>\n",
       "      <td>10:31:54</td>\n",
       "      <td>Caldecott</td>\n",
       "      <td>09:56:14</td>\n",
       "      <td>00:35:40</td>\n",
       "      <td>35.666667</td>\n",
       "      <td>1900-01-01 09:51:51.800000</td>\n",
       "      <td>1900-01-01 09:56:20.433333</td>\n",
       "      <td>1900-01-01 09:56:14</td>\n",
       "    </tr>\n",
       "    <tr>\n",
       "      <th>5230</th>\n",
       "      <td>5230</td>\n",
       "      <td>Bugis</td>\n",
       "      <td>10:01:06</td>\n",
       "      <td>Clementi</td>\n",
       "      <td>09:29:39</td>\n",
       "      <td>00:31:27</td>\n",
       "      <td>31.450000</td>\n",
       "      <td>1900-01-01 09:25:00.000000</td>\n",
       "      <td>1900-01-01 09:31:55.025794</td>\n",
       "      <td>1900-01-01 09:29:39</td>\n",
       "    </tr>\n",
       "    <tr>\n",
       "      <th>5575</th>\n",
       "      <td>5575</td>\n",
       "      <td>Tiong Bahru</td>\n",
       "      <td>09:56:12</td>\n",
       "      <td>Clementi</td>\n",
       "      <td>09:27:47</td>\n",
       "      <td>00:28:25</td>\n",
       "      <td>28.416667</td>\n",
       "      <td>1900-01-01 09:25:00.000000</td>\n",
       "      <td>1900-01-01 09:31:55.025794</td>\n",
       "      <td>1900-01-01 09:27:47</td>\n",
       "    </tr>\n",
       "    <tr>\n",
       "      <th>5617</th>\n",
       "      <td>5617</td>\n",
       "      <td>Chinatown</td>\n",
       "      <td>10:22:43</td>\n",
       "      <td>Farrer Road</td>\n",
       "      <td>09:53:20</td>\n",
       "      <td>00:29:23</td>\n",
       "      <td>29.383333</td>\n",
       "      <td>1900-01-01 09:47:48.571429</td>\n",
       "      <td>1900-01-01 09:53:30.714286</td>\n",
       "      <td>1900-01-01 09:53:20</td>\n",
       "    </tr>\n",
       "    <tr>\n",
       "      <th>6524</th>\n",
       "      <td>6524</td>\n",
       "      <td>Novena</td>\n",
       "      <td>10:10:56</td>\n",
       "      <td>Holland Village</td>\n",
       "      <td>09:47:00</td>\n",
       "      <td>00:23:56</td>\n",
       "      <td>23.933333</td>\n",
       "      <td>1900-01-01 09:41:38.576555</td>\n",
       "      <td>1900-01-01 09:47:11.435407</td>\n",
       "      <td>1900-01-01 09:47:00</td>\n",
       "    </tr>\n",
       "    <tr>\n",
       "      <th>6952</th>\n",
       "      <td>6952</td>\n",
       "      <td>Pioneer</td>\n",
       "      <td>10:13:47</td>\n",
       "      <td>Holland Village</td>\n",
       "      <td>09:45:00</td>\n",
       "      <td>00:28:47</td>\n",
       "      <td>28.783333</td>\n",
       "      <td>1900-01-01 09:41:38.576555</td>\n",
       "      <td>1900-01-01 09:47:11.435407</td>\n",
       "      <td>1900-01-01 09:45:00</td>\n",
       "    </tr>\n",
       "    <tr>\n",
       "      <th>7313</th>\n",
       "      <td>7313</td>\n",
       "      <td>Little India</td>\n",
       "      <td>10:05:27</td>\n",
       "      <td>Clementi</td>\n",
       "      <td>09:28:34</td>\n",
       "      <td>00:36:53</td>\n",
       "      <td>36.883333</td>\n",
       "      <td>1900-01-01 09:25:00.000000</td>\n",
       "      <td>1900-01-01 09:31:55.025794</td>\n",
       "      <td>1900-01-01 09:28:34</td>\n",
       "    </tr>\n",
       "    <tr>\n",
       "      <th>7575</th>\n",
       "      <td>7575</td>\n",
       "      <td>Yio Chu Kang</td>\n",
       "      <td>10:45:57</td>\n",
       "      <td>Farrer Road</td>\n",
       "      <td>09:52:13</td>\n",
       "      <td>00:53:44</td>\n",
       "      <td>53.733333</td>\n",
       "      <td>1900-01-01 09:47:48.571429</td>\n",
       "      <td>1900-01-01 09:53:30.714286</td>\n",
       "      <td>1900-01-01 09:52:13</td>\n",
       "    </tr>\n",
       "    <tr>\n",
       "      <th>7619</th>\n",
       "      <td>7619</td>\n",
       "      <td>HarbourFront</td>\n",
       "      <td>09:56:52</td>\n",
       "      <td>Buona Vista</td>\n",
       "      <td>09:37:43</td>\n",
       "      <td>00:19:09</td>\n",
       "      <td>19.150000</td>\n",
       "      <td>1900-01-01 09:33:54.603030</td>\n",
       "      <td>1900-01-01 09:38:21.904545</td>\n",
       "      <td>1900-01-01 09:37:43</td>\n",
       "    </tr>\n",
       "    <tr>\n",
       "      <th>7800</th>\n",
       "      <td>7800</td>\n",
       "      <td>Jurong East</td>\n",
       "      <td>09:44:49</td>\n",
       "      <td>Dover</td>\n",
       "      <td>09:36:02</td>\n",
       "      <td>00:08:47</td>\n",
       "      <td>8.783333</td>\n",
       "      <td>1900-01-01 09:31:31.888889</td>\n",
       "      <td>1900-01-01 09:38:03.777778</td>\n",
       "      <td>1900-01-01 09:36:02</td>\n",
       "    </tr>\n",
       "    <tr>\n",
       "      <th>8632</th>\n",
       "      <td>8632</td>\n",
       "      <td>MacPherson</td>\n",
       "      <td>10:14:03</td>\n",
       "      <td>Clementi</td>\n",
       "      <td>09:30:37</td>\n",
       "      <td>00:43:26</td>\n",
       "      <td>43.433333</td>\n",
       "      <td>1900-01-01 09:25:00.000000</td>\n",
       "      <td>1900-01-01 09:31:55.025794</td>\n",
       "      <td>1900-01-01 09:30:37</td>\n",
       "    </tr>\n",
       "    <tr>\n",
       "      <th>8894</th>\n",
       "      <td>8894</td>\n",
       "      <td>City Hall</td>\n",
       "      <td>09:53:03</td>\n",
       "      <td>Clementi</td>\n",
       "      <td>09:26:59</td>\n",
       "      <td>00:26:04</td>\n",
       "      <td>26.066667</td>\n",
       "      <td>1900-01-01 09:25:00.000000</td>\n",
       "      <td>1900-01-01 09:31:55.025794</td>\n",
       "      <td>1900-01-01 09:26:59</td>\n",
       "    </tr>\n",
       "    <tr>\n",
       "      <th>9244</th>\n",
       "      <td>9244</td>\n",
       "      <td>Tiong Bahru</td>\n",
       "      <td>09:50:24</td>\n",
       "      <td>Buona Vista</td>\n",
       "      <td>09:37:05</td>\n",
       "      <td>00:13:19</td>\n",
       "      <td>13.316667</td>\n",
       "      <td>1900-01-01 09:33:54.603030</td>\n",
       "      <td>1900-01-01 09:38:21.904545</td>\n",
       "      <td>1900-01-01 09:37:05</td>\n",
       "    </tr>\n",
       "    <tr>\n",
       "      <th>10320</th>\n",
       "      <td>10320</td>\n",
       "      <td>Pioneer</td>\n",
       "      <td>10:13:45</td>\n",
       "      <td>Holland Village</td>\n",
       "      <td>09:44:59</td>\n",
       "      <td>00:28:46</td>\n",
       "      <td>28.766667</td>\n",
       "      <td>1900-01-01 09:41:38.576555</td>\n",
       "      <td>1900-01-01 09:47:11.435407</td>\n",
       "      <td>1900-01-01 09:44:59</td>\n",
       "    </tr>\n",
       "    <tr>\n",
       "      <th>10381</th>\n",
       "      <td>10381</td>\n",
       "      <td>Tai Seng</td>\n",
       "      <td>10:12:44</td>\n",
       "      <td>Holland Village</td>\n",
       "      <td>09:46:49</td>\n",
       "      <td>00:25:55</td>\n",
       "      <td>25.916667</td>\n",
       "      <td>1900-01-01 09:41:38.576555</td>\n",
       "      <td>1900-01-01 09:47:11.435407</td>\n",
       "      <td>1900-01-01 09:46:49</td>\n",
       "    </tr>\n",
       "    <tr>\n",
       "      <th>10600</th>\n",
       "      <td>10600</td>\n",
       "      <td>Ang Mo Kio</td>\n",
       "      <td>10:02:13</td>\n",
       "      <td>Clementi</td>\n",
       "      <td>09:26:43</td>\n",
       "      <td>00:35:30</td>\n",
       "      <td>35.500000</td>\n",
       "      <td>1900-01-01 09:25:00.000000</td>\n",
       "      <td>1900-01-01 09:31:55.025794</td>\n",
       "      <td>1900-01-01 09:26:43</td>\n",
       "    </tr>\n",
       "    <tr>\n",
       "      <th>10769</th>\n",
       "      <td>10769</td>\n",
       "      <td>Boon Lay</td>\n",
       "      <td>09:50:19</td>\n",
       "      <td>Dover</td>\n",
       "      <td>09:34:05</td>\n",
       "      <td>00:16:14</td>\n",
       "      <td>16.233333</td>\n",
       "      <td>1900-01-01 09:31:31.888889</td>\n",
       "      <td>1900-01-01 09:38:03.777778</td>\n",
       "      <td>1900-01-01 09:34:05</td>\n",
       "    </tr>\n",
       "    <tr>\n",
       "      <th>10871</th>\n",
       "      <td>10871</td>\n",
       "      <td>Jurong East</td>\n",
       "      <td>09:45:36</td>\n",
       "      <td>Dover</td>\n",
       "      <td>09:34:53</td>\n",
       "      <td>00:10:43</td>\n",
       "      <td>10.716667</td>\n",
       "      <td>1900-01-01 09:31:31.888889</td>\n",
       "      <td>1900-01-01 09:38:03.777778</td>\n",
       "      <td>1900-01-01 09:34:53</td>\n",
       "    </tr>\n",
       "    <tr>\n",
       "      <th>11046</th>\n",
       "      <td>11046</td>\n",
       "      <td>Jurong East</td>\n",
       "      <td>09:49:30</td>\n",
       "      <td>Buona Vista</td>\n",
       "      <td>09:37:39</td>\n",
       "      <td>00:11:51</td>\n",
       "      <td>11.850000</td>\n",
       "      <td>1900-01-01 09:33:54.603030</td>\n",
       "      <td>1900-01-01 09:38:21.904545</td>\n",
       "      <td>1900-01-01 09:37:39</td>\n",
       "    </tr>\n",
       "    <tr>\n",
       "      <th>...</th>\n",
       "      <td>...</td>\n",
       "      <td>...</td>\n",
       "      <td>...</td>\n",
       "      <td>...</td>\n",
       "      <td>...</td>\n",
       "      <td>...</td>\n",
       "      <td>...</td>\n",
       "      <td>...</td>\n",
       "      <td>...</td>\n",
       "      <td>...</td>\n",
       "    </tr>\n",
       "    <tr>\n",
       "      <th>372885</th>\n",
       "      <td>372885</td>\n",
       "      <td>Redhill</td>\n",
       "      <td>09:47:36</td>\n",
       "      <td>Clementi</td>\n",
       "      <td>09:30:25</td>\n",
       "      <td>00:17:11</td>\n",
       "      <td>17.183333</td>\n",
       "      <td>1900-01-01 09:25:00.000000</td>\n",
       "      <td>1900-01-01 09:31:55.025794</td>\n",
       "      <td>1900-01-01 09:30:25</td>\n",
       "    </tr>\n",
       "    <tr>\n",
       "      <th>373086</th>\n",
       "      <td>373086</td>\n",
       "      <td>Raffles Place</td>\n",
       "      <td>09:50:30</td>\n",
       "      <td>Clementi</td>\n",
       "      <td>09:27:13</td>\n",
       "      <td>00:23:17</td>\n",
       "      <td>23.283333</td>\n",
       "      <td>1900-01-01 09:25:00.000000</td>\n",
       "      <td>1900-01-01 09:31:55.025794</td>\n",
       "      <td>1900-01-01 09:27:13</td>\n",
       "    </tr>\n",
       "    <tr>\n",
       "      <th>373292</th>\n",
       "      <td>373292</td>\n",
       "      <td>Outram Park</td>\n",
       "      <td>09:52:57</td>\n",
       "      <td>Clementi</td>\n",
       "      <td>09:30:46</td>\n",
       "      <td>00:22:11</td>\n",
       "      <td>22.183333</td>\n",
       "      <td>1900-01-01 09:25:00.000000</td>\n",
       "      <td>1900-01-01 09:31:55.025794</td>\n",
       "      <td>1900-01-01 09:30:46</td>\n",
       "    </tr>\n",
       "    <tr>\n",
       "      <th>373895</th>\n",
       "      <td>373895</td>\n",
       "      <td>Bishan</td>\n",
       "      <td>09:57:54</td>\n",
       "      <td>Clementi</td>\n",
       "      <td>09:27:29</td>\n",
       "      <td>00:30:25</td>\n",
       "      <td>30.416667</td>\n",
       "      <td>1900-01-01 09:25:00.000000</td>\n",
       "      <td>1900-01-01 09:31:55.025794</td>\n",
       "      <td>1900-01-01 09:27:29</td>\n",
       "    </tr>\n",
       "    <tr>\n",
       "      <th>374043</th>\n",
       "      <td>374043</td>\n",
       "      <td>Outram Park</td>\n",
       "      <td>09:52:30</td>\n",
       "      <td>Clementi</td>\n",
       "      <td>09:30:31</td>\n",
       "      <td>00:21:59</td>\n",
       "      <td>21.983333</td>\n",
       "      <td>1900-01-01 09:25:00.000000</td>\n",
       "      <td>1900-01-01 09:31:55.025794</td>\n",
       "      <td>1900-01-01 09:30:31</td>\n",
       "    </tr>\n",
       "    <tr>\n",
       "      <th>374214</th>\n",
       "      <td>374214</td>\n",
       "      <td>Pioneer</td>\n",
       "      <td>09:44:03</td>\n",
       "      <td>Clementi</td>\n",
       "      <td>09:25:27</td>\n",
       "      <td>00:18:36</td>\n",
       "      <td>18.600000</td>\n",
       "      <td>1900-01-01 09:25:00.000000</td>\n",
       "      <td>1900-01-01 09:31:55.025794</td>\n",
       "      <td>1900-01-01 09:25:27</td>\n",
       "    </tr>\n",
       "    <tr>\n",
       "      <th>374513</th>\n",
       "      <td>374513</td>\n",
       "      <td>Bedok</td>\n",
       "      <td>10:17:47</td>\n",
       "      <td>Clementi</td>\n",
       "      <td>09:30:43</td>\n",
       "      <td>00:47:04</td>\n",
       "      <td>47.066667</td>\n",
       "      <td>1900-01-01 09:25:00.000000</td>\n",
       "      <td>1900-01-01 09:31:55.025794</td>\n",
       "      <td>1900-01-01 09:30:43</td>\n",
       "    </tr>\n",
       "    <tr>\n",
       "      <th>374676</th>\n",
       "      <td>374676</td>\n",
       "      <td>Jurong East</td>\n",
       "      <td>09:45:38</td>\n",
       "      <td>Dover</td>\n",
       "      <td>09:34:46</td>\n",
       "      <td>00:10:52</td>\n",
       "      <td>10.866667</td>\n",
       "      <td>1900-01-01 09:31:31.888889</td>\n",
       "      <td>1900-01-01 09:38:03.777778</td>\n",
       "      <td>1900-01-01 09:34:46</td>\n",
       "    </tr>\n",
       "    <tr>\n",
       "      <th>375113</th>\n",
       "      <td>375113</td>\n",
       "      <td>Newton</td>\n",
       "      <td>10:16:07</td>\n",
       "      <td>Botanic Gardens</td>\n",
       "      <td>09:59:16</td>\n",
       "      <td>00:16:51</td>\n",
       "      <td>16.850000</td>\n",
       "      <td>1900-01-01 09:58:58.571429</td>\n",
       "      <td>1900-01-01 10:05:46.285714</td>\n",
       "      <td>1900-01-01 09:59:16</td>\n",
       "    </tr>\n",
       "    <tr>\n",
       "      <th>375475</th>\n",
       "      <td>375475</td>\n",
       "      <td>Buona Vista</td>\n",
       "      <td>09:34:10</td>\n",
       "      <td>Clementi</td>\n",
       "      <td>09:26:24</td>\n",
       "      <td>00:07:46</td>\n",
       "      <td>7.766667</td>\n",
       "      <td>1900-01-01 09:25:00.000000</td>\n",
       "      <td>1900-01-01 09:31:55.025794</td>\n",
       "      <td>1900-01-01 09:26:24</td>\n",
       "    </tr>\n",
       "    <tr>\n",
       "      <th>375757</th>\n",
       "      <td>375757</td>\n",
       "      <td>Serangoon</td>\n",
       "      <td>09:57:22</td>\n",
       "      <td>Buona Vista</td>\n",
       "      <td>09:34:54</td>\n",
       "      <td>00:22:28</td>\n",
       "      <td>22.466667</td>\n",
       "      <td>1900-01-01 09:33:54.603030</td>\n",
       "      <td>1900-01-01 09:38:21.904545</td>\n",
       "      <td>1900-01-01 09:34:54</td>\n",
       "    </tr>\n",
       "    <tr>\n",
       "      <th>375971</th>\n",
       "      <td>375971</td>\n",
       "      <td>Botanic Gardens</td>\n",
       "      <td>09:50:38</td>\n",
       "      <td>Clementi</td>\n",
       "      <td>09:30:13</td>\n",
       "      <td>00:20:25</td>\n",
       "      <td>20.416667</td>\n",
       "      <td>1900-01-01 09:25:00.000000</td>\n",
       "      <td>1900-01-01 09:31:55.025794</td>\n",
       "      <td>1900-01-01 09:30:13</td>\n",
       "    </tr>\n",
       "    <tr>\n",
       "      <th>376456</th>\n",
       "      <td>376456</td>\n",
       "      <td>Lakeside</td>\n",
       "      <td>09:42:20</td>\n",
       "      <td>Clementi</td>\n",
       "      <td>09:29:10</td>\n",
       "      <td>00:13:10</td>\n",
       "      <td>13.166667</td>\n",
       "      <td>1900-01-01 09:25:00.000000</td>\n",
       "      <td>1900-01-01 09:31:55.025794</td>\n",
       "      <td>1900-01-01 09:29:10</td>\n",
       "    </tr>\n",
       "    <tr>\n",
       "      <th>376656</th>\n",
       "      <td>376656</td>\n",
       "      <td>City Hall</td>\n",
       "      <td>09:59:10</td>\n",
       "      <td>Dover</td>\n",
       "      <td>09:31:57</td>\n",
       "      <td>00:27:13</td>\n",
       "      <td>27.216667</td>\n",
       "      <td>1900-01-01 09:31:31.888889</td>\n",
       "      <td>1900-01-01 09:38:03.777778</td>\n",
       "      <td>1900-01-01 09:31:57</td>\n",
       "    </tr>\n",
       "    <tr>\n",
       "      <th>377293</th>\n",
       "      <td>377293</td>\n",
       "      <td>Bugis</td>\n",
       "      <td>10:02:19</td>\n",
       "      <td>Clementi</td>\n",
       "      <td>09:31:41</td>\n",
       "      <td>00:30:38</td>\n",
       "      <td>30.633333</td>\n",
       "      <td>1900-01-01 09:25:00.000000</td>\n",
       "      <td>1900-01-01 09:31:55.025794</td>\n",
       "      <td>1900-01-01 09:31:41</td>\n",
       "    </tr>\n",
       "    <tr>\n",
       "      <th>377437</th>\n",
       "      <td>377437</td>\n",
       "      <td>Jurong East</td>\n",
       "      <td>09:49:28</td>\n",
       "      <td>Buona Vista</td>\n",
       "      <td>09:37:31</td>\n",
       "      <td>00:11:57</td>\n",
       "      <td>11.950000</td>\n",
       "      <td>1900-01-01 09:33:54.603030</td>\n",
       "      <td>1900-01-01 09:38:21.904545</td>\n",
       "      <td>1900-01-01 09:37:31</td>\n",
       "    </tr>\n",
       "    <tr>\n",
       "      <th>378124</th>\n",
       "      <td>378124</td>\n",
       "      <td>one-north</td>\n",
       "      <td>10:08:50</td>\n",
       "      <td>Caldecott</td>\n",
       "      <td>09:52:07</td>\n",
       "      <td>00:16:43</td>\n",
       "      <td>16.716667</td>\n",
       "      <td>1900-01-01 09:51:51.800000</td>\n",
       "      <td>1900-01-01 09:56:20.433333</td>\n",
       "      <td>1900-01-01 09:52:07</td>\n",
       "    </tr>\n",
       "    <tr>\n",
       "      <th>378232</th>\n",
       "      <td>378232</td>\n",
       "      <td>Kent Ridge</td>\n",
       "      <td>09:55:38</td>\n",
       "      <td>Holland Village</td>\n",
       "      <td>09:46:19</td>\n",
       "      <td>00:09:19</td>\n",
       "      <td>9.316667</td>\n",
       "      <td>1900-01-01 09:41:38.576555</td>\n",
       "      <td>1900-01-01 09:47:11.435407</td>\n",
       "      <td>1900-01-01 09:46:19</td>\n",
       "    </tr>\n",
       "    <tr>\n",
       "      <th>378409</th>\n",
       "      <td>378409</td>\n",
       "      <td>Dhoby Ghaut</td>\n",
       "      <td>10:03:38</td>\n",
       "      <td>Dover</td>\n",
       "      <td>09:31:55</td>\n",
       "      <td>00:31:43</td>\n",
       "      <td>31.716667</td>\n",
       "      <td>1900-01-01 09:31:31.888889</td>\n",
       "      <td>1900-01-01 09:38:03.777778</td>\n",
       "      <td>1900-01-01 09:31:55</td>\n",
       "    </tr>\n",
       "    <tr>\n",
       "      <th>378751</th>\n",
       "      <td>378751</td>\n",
       "      <td>Bukit Batok</td>\n",
       "      <td>09:38:01</td>\n",
       "      <td>Clementi</td>\n",
       "      <td>09:25:37</td>\n",
       "      <td>00:12:24</td>\n",
       "      <td>12.400000</td>\n",
       "      <td>1900-01-01 09:25:00.000000</td>\n",
       "      <td>1900-01-01 09:31:55.025794</td>\n",
       "      <td>1900-01-01 09:25:37</td>\n",
       "    </tr>\n",
       "    <tr>\n",
       "      <th>379117</th>\n",
       "      <td>379117</td>\n",
       "      <td>Telok Blangah</td>\n",
       "      <td>10:03:45</td>\n",
       "      <td>Holland Village</td>\n",
       "      <td>09:44:46</td>\n",
       "      <td>00:18:59</td>\n",
       "      <td>18.983333</td>\n",
       "      <td>1900-01-01 09:41:38.576555</td>\n",
       "      <td>1900-01-01 09:47:11.435407</td>\n",
       "      <td>1900-01-01 09:44:46</td>\n",
       "    </tr>\n",
       "    <tr>\n",
       "      <th>379184</th>\n",
       "      <td>379184</td>\n",
       "      <td>Kent Ridge</td>\n",
       "      <td>09:49:51</td>\n",
       "      <td>Clementi</td>\n",
       "      <td>09:29:48</td>\n",
       "      <td>00:20:03</td>\n",
       "      <td>20.050000</td>\n",
       "      <td>1900-01-01 09:25:00.000000</td>\n",
       "      <td>1900-01-01 09:31:55.025794</td>\n",
       "      <td>1900-01-01 09:29:48</td>\n",
       "    </tr>\n",
       "    <tr>\n",
       "      <th>379237</th>\n",
       "      <td>379237</td>\n",
       "      <td>one-north</td>\n",
       "      <td>09:50:02</td>\n",
       "      <td>Holland Village</td>\n",
       "      <td>09:44:11</td>\n",
       "      <td>00:05:51</td>\n",
       "      <td>5.850000</td>\n",
       "      <td>1900-01-01 09:41:38.576555</td>\n",
       "      <td>1900-01-01 09:47:11.435407</td>\n",
       "      <td>1900-01-01 09:44:11</td>\n",
       "    </tr>\n",
       "    <tr>\n",
       "      <th>379298</th>\n",
       "      <td>379298</td>\n",
       "      <td>Serangoon</td>\n",
       "      <td>10:05:19</td>\n",
       "      <td>Holland Village</td>\n",
       "      <td>09:44:40</td>\n",
       "      <td>00:20:39</td>\n",
       "      <td>20.650000</td>\n",
       "      <td>1900-01-01 09:41:38.576555</td>\n",
       "      <td>1900-01-01 09:47:11.435407</td>\n",
       "      <td>1900-01-01 09:44:40</td>\n",
       "    </tr>\n",
       "    <tr>\n",
       "      <th>379398</th>\n",
       "      <td>379398</td>\n",
       "      <td>Bukit Gombak</td>\n",
       "      <td>09:40:00</td>\n",
       "      <td>Clementi</td>\n",
       "      <td>09:26:41</td>\n",
       "      <td>00:13:19</td>\n",
       "      <td>13.316667</td>\n",
       "      <td>1900-01-01 09:25:00.000000</td>\n",
       "      <td>1900-01-01 09:31:55.025794</td>\n",
       "      <td>1900-01-01 09:26:41</td>\n",
       "    </tr>\n",
       "    <tr>\n",
       "      <th>380036</th>\n",
       "      <td>380036</td>\n",
       "      <td>Choa Chu Kang</td>\n",
       "      <td>09:50:53</td>\n",
       "      <td>Clementi</td>\n",
       "      <td>09:30:30</td>\n",
       "      <td>00:20:23</td>\n",
       "      <td>20.383333</td>\n",
       "      <td>1900-01-01 09:25:00.000000</td>\n",
       "      <td>1900-01-01 09:31:55.025794</td>\n",
       "      <td>1900-01-01 09:30:30</td>\n",
       "    </tr>\n",
       "    <tr>\n",
       "      <th>380246</th>\n",
       "      <td>380246</td>\n",
       "      <td>one-north</td>\n",
       "      <td>09:36:17</td>\n",
       "      <td>Clementi</td>\n",
       "      <td>09:25:14</td>\n",
       "      <td>00:11:03</td>\n",
       "      <td>11.050000</td>\n",
       "      <td>1900-01-01 09:25:00.000000</td>\n",
       "      <td>1900-01-01 09:31:55.025794</td>\n",
       "      <td>1900-01-01 09:25:14</td>\n",
       "    </tr>\n",
       "    <tr>\n",
       "      <th>380846</th>\n",
       "      <td>380846</td>\n",
       "      <td>Clementi</td>\n",
       "      <td>10:14:07</td>\n",
       "      <td>Caldecott</td>\n",
       "      <td>09:53:11</td>\n",
       "      <td>00:20:56</td>\n",
       "      <td>20.933333</td>\n",
       "      <td>1900-01-01 09:51:51.800000</td>\n",
       "      <td>1900-01-01 09:56:20.433333</td>\n",
       "      <td>1900-01-01 09:53:11</td>\n",
       "    </tr>\n",
       "    <tr>\n",
       "      <th>380960</th>\n",
       "      <td>380960</td>\n",
       "      <td>Kent Ridge</td>\n",
       "      <td>09:44:21</td>\n",
       "      <td>Buona Vista</td>\n",
       "      <td>09:36:29</td>\n",
       "      <td>00:07:52</td>\n",
       "      <td>7.866667</td>\n",
       "      <td>1900-01-01 09:33:54.603030</td>\n",
       "      <td>1900-01-01 09:38:21.904545</td>\n",
       "      <td>1900-01-01 09:36:29</td>\n",
       "    </tr>\n",
       "    <tr>\n",
       "      <th>381118</th>\n",
       "      <td>381118</td>\n",
       "      <td>Sembawang</td>\n",
       "      <td>10:22:57</td>\n",
       "      <td>Dover</td>\n",
       "      <td>09:36:55</td>\n",
       "      <td>00:46:02</td>\n",
       "      <td>46.033333</td>\n",
       "      <td>1900-01-01 09:31:31.888889</td>\n",
       "      <td>1900-01-01 09:38:03.777778</td>\n",
       "      <td>1900-01-01 09:36:55</td>\n",
       "    </tr>\n",
       "  </tbody>\n",
       "</table>\n",
       "<p>1272 rows × 10 columns</p>\n",
       "</div>"
      ],
      "text/plain": [
       "         index      destination destination_tm           origin origin_tm  \\\n",
       "500        500      Jurong East       09:37:28         Clementi  09:28:13   \n",
       "512        512       Kent Ridge       09:43:59      Buona Vista  09:36:33   \n",
       "734        734     HarbourFront       10:01:41         Clementi  09:30:31   \n",
       "1823      1823    Raffles Place       09:56:44         Clementi  09:30:41   \n",
       "1914      1914        Chinatown       09:52:02         Clementi  09:25:31   \n",
       "2295      2295          Orchard       10:07:13         Clementi  09:31:38   \n",
       "2976      2976        Pasir Ris       10:44:02      Farrer Road  09:52:17   \n",
       "3199      3199        one-north       09:39:42         Clementi  09:25:32   \n",
       "3694      3694            Bedok       10:28:16        Caldecott  09:55:57   \n",
       "3965      3965     Yio Chu Kang       10:12:36  Holland Village  09:45:52   \n",
       "4829      4829         Boon Lay       09:45:19         Clementi  09:30:16   \n",
       "5121      5121      Tanah Merah       10:31:54        Caldecott  09:56:14   \n",
       "5230      5230            Bugis       10:01:06         Clementi  09:29:39   \n",
       "5575      5575      Tiong Bahru       09:56:12         Clementi  09:27:47   \n",
       "5617      5617        Chinatown       10:22:43      Farrer Road  09:53:20   \n",
       "6524      6524           Novena       10:10:56  Holland Village  09:47:00   \n",
       "6952      6952          Pioneer       10:13:47  Holland Village  09:45:00   \n",
       "7313      7313     Little India       10:05:27         Clementi  09:28:34   \n",
       "7575      7575     Yio Chu Kang       10:45:57      Farrer Road  09:52:13   \n",
       "7619      7619     HarbourFront       09:56:52      Buona Vista  09:37:43   \n",
       "7800      7800      Jurong East       09:44:49            Dover  09:36:02   \n",
       "8632      8632       MacPherson       10:14:03         Clementi  09:30:37   \n",
       "8894      8894        City Hall       09:53:03         Clementi  09:26:59   \n",
       "9244      9244      Tiong Bahru       09:50:24      Buona Vista  09:37:05   \n",
       "10320    10320          Pioneer       10:13:45  Holland Village  09:44:59   \n",
       "10381    10381         Tai Seng       10:12:44  Holland Village  09:46:49   \n",
       "10600    10600       Ang Mo Kio       10:02:13         Clementi  09:26:43   \n",
       "10769    10769         Boon Lay       09:50:19            Dover  09:34:05   \n",
       "10871    10871      Jurong East       09:45:36            Dover  09:34:53   \n",
       "11046    11046      Jurong East       09:49:30      Buona Vista  09:37:39   \n",
       "...        ...              ...            ...              ...       ...   \n",
       "372885  372885          Redhill       09:47:36         Clementi  09:30:25   \n",
       "373086  373086    Raffles Place       09:50:30         Clementi  09:27:13   \n",
       "373292  373292      Outram Park       09:52:57         Clementi  09:30:46   \n",
       "373895  373895           Bishan       09:57:54         Clementi  09:27:29   \n",
       "374043  374043      Outram Park       09:52:30         Clementi  09:30:31   \n",
       "374214  374214          Pioneer       09:44:03         Clementi  09:25:27   \n",
       "374513  374513            Bedok       10:17:47         Clementi  09:30:43   \n",
       "374676  374676      Jurong East       09:45:38            Dover  09:34:46   \n",
       "375113  375113           Newton       10:16:07  Botanic Gardens  09:59:16   \n",
       "375475  375475      Buona Vista       09:34:10         Clementi  09:26:24   \n",
       "375757  375757        Serangoon       09:57:22      Buona Vista  09:34:54   \n",
       "375971  375971  Botanic Gardens       09:50:38         Clementi  09:30:13   \n",
       "376456  376456         Lakeside       09:42:20         Clementi  09:29:10   \n",
       "376656  376656        City Hall       09:59:10            Dover  09:31:57   \n",
       "377293  377293            Bugis       10:02:19         Clementi  09:31:41   \n",
       "377437  377437      Jurong East       09:49:28      Buona Vista  09:37:31   \n",
       "378124  378124        one-north       10:08:50        Caldecott  09:52:07   \n",
       "378232  378232       Kent Ridge       09:55:38  Holland Village  09:46:19   \n",
       "378409  378409      Dhoby Ghaut       10:03:38            Dover  09:31:55   \n",
       "378751  378751      Bukit Batok       09:38:01         Clementi  09:25:37   \n",
       "379117  379117    Telok Blangah       10:03:45  Holland Village  09:44:46   \n",
       "379184  379184       Kent Ridge       09:49:51         Clementi  09:29:48   \n",
       "379237  379237        one-north       09:50:02  Holland Village  09:44:11   \n",
       "379298  379298        Serangoon       10:05:19  Holland Village  09:44:40   \n",
       "379398  379398     Bukit Gombak       09:40:00         Clementi  09:26:41   \n",
       "380036  380036    Choa Chu Kang       09:50:53         Clementi  09:30:30   \n",
       "380246  380246        one-north       09:36:17         Clementi  09:25:14   \n",
       "380846  380846         Clementi       10:14:07        Caldecott  09:53:11   \n",
       "380960  380960       Kent Ridge       09:44:21      Buona Vista  09:36:29   \n",
       "381118  381118        Sembawang       10:22:57            Dover  09:36:55   \n",
       "\n",
       "        timeperiod  timeminutetaken            timewindowstart  \\\n",
       "500       00:09:15         9.250000 1900-01-01 09:25:00.000000   \n",
       "512       00:07:26         7.433333 1900-01-01 09:33:54.603030   \n",
       "734       00:31:10        31.166667 1900-01-01 09:25:00.000000   \n",
       "1823      00:26:03        26.050000 1900-01-01 09:25:00.000000   \n",
       "1914      00:26:31        26.516667 1900-01-01 09:25:00.000000   \n",
       "2295      00:35:35        35.583333 1900-01-01 09:25:00.000000   \n",
       "2976      00:51:45        51.750000 1900-01-01 09:47:48.571429   \n",
       "3199      00:14:10        14.166667 1900-01-01 09:25:00.000000   \n",
       "3694      00:32:19        32.316667 1900-01-01 09:51:51.800000   \n",
       "3965      00:26:44        26.733333 1900-01-01 09:41:38.576555   \n",
       "4829      00:15:03        15.050000 1900-01-01 09:25:00.000000   \n",
       "5121      00:35:40        35.666667 1900-01-01 09:51:51.800000   \n",
       "5230      00:31:27        31.450000 1900-01-01 09:25:00.000000   \n",
       "5575      00:28:25        28.416667 1900-01-01 09:25:00.000000   \n",
       "5617      00:29:23        29.383333 1900-01-01 09:47:48.571429   \n",
       "6524      00:23:56        23.933333 1900-01-01 09:41:38.576555   \n",
       "6952      00:28:47        28.783333 1900-01-01 09:41:38.576555   \n",
       "7313      00:36:53        36.883333 1900-01-01 09:25:00.000000   \n",
       "7575      00:53:44        53.733333 1900-01-01 09:47:48.571429   \n",
       "7619      00:19:09        19.150000 1900-01-01 09:33:54.603030   \n",
       "7800      00:08:47         8.783333 1900-01-01 09:31:31.888889   \n",
       "8632      00:43:26        43.433333 1900-01-01 09:25:00.000000   \n",
       "8894      00:26:04        26.066667 1900-01-01 09:25:00.000000   \n",
       "9244      00:13:19        13.316667 1900-01-01 09:33:54.603030   \n",
       "10320     00:28:46        28.766667 1900-01-01 09:41:38.576555   \n",
       "10381     00:25:55        25.916667 1900-01-01 09:41:38.576555   \n",
       "10600     00:35:30        35.500000 1900-01-01 09:25:00.000000   \n",
       "10769     00:16:14        16.233333 1900-01-01 09:31:31.888889   \n",
       "10871     00:10:43        10.716667 1900-01-01 09:31:31.888889   \n",
       "11046     00:11:51        11.850000 1900-01-01 09:33:54.603030   \n",
       "...            ...              ...                        ...   \n",
       "372885    00:17:11        17.183333 1900-01-01 09:25:00.000000   \n",
       "373086    00:23:17        23.283333 1900-01-01 09:25:00.000000   \n",
       "373292    00:22:11        22.183333 1900-01-01 09:25:00.000000   \n",
       "373895    00:30:25        30.416667 1900-01-01 09:25:00.000000   \n",
       "374043    00:21:59        21.983333 1900-01-01 09:25:00.000000   \n",
       "374214    00:18:36        18.600000 1900-01-01 09:25:00.000000   \n",
       "374513    00:47:04        47.066667 1900-01-01 09:25:00.000000   \n",
       "374676    00:10:52        10.866667 1900-01-01 09:31:31.888889   \n",
       "375113    00:16:51        16.850000 1900-01-01 09:58:58.571429   \n",
       "375475    00:07:46         7.766667 1900-01-01 09:25:00.000000   \n",
       "375757    00:22:28        22.466667 1900-01-01 09:33:54.603030   \n",
       "375971    00:20:25        20.416667 1900-01-01 09:25:00.000000   \n",
       "376456    00:13:10        13.166667 1900-01-01 09:25:00.000000   \n",
       "376656    00:27:13        27.216667 1900-01-01 09:31:31.888889   \n",
       "377293    00:30:38        30.633333 1900-01-01 09:25:00.000000   \n",
       "377437    00:11:57        11.950000 1900-01-01 09:33:54.603030   \n",
       "378124    00:16:43        16.716667 1900-01-01 09:51:51.800000   \n",
       "378232    00:09:19         9.316667 1900-01-01 09:41:38.576555   \n",
       "378409    00:31:43        31.716667 1900-01-01 09:31:31.888889   \n",
       "378751    00:12:24        12.400000 1900-01-01 09:25:00.000000   \n",
       "379117    00:18:59        18.983333 1900-01-01 09:41:38.576555   \n",
       "379184    00:20:03        20.050000 1900-01-01 09:25:00.000000   \n",
       "379237    00:05:51         5.850000 1900-01-01 09:41:38.576555   \n",
       "379298    00:20:39        20.650000 1900-01-01 09:41:38.576555   \n",
       "379398    00:13:19        13.316667 1900-01-01 09:25:00.000000   \n",
       "380036    00:20:23        20.383333 1900-01-01 09:25:00.000000   \n",
       "380246    00:11:03        11.050000 1900-01-01 09:25:00.000000   \n",
       "380846    00:20:56        20.933333 1900-01-01 09:51:51.800000   \n",
       "380960    00:07:52         7.866667 1900-01-01 09:33:54.603030   \n",
       "381118    00:46:02        46.033333 1900-01-01 09:31:31.888889   \n",
       "\n",
       "                    timewindowend      timedateorigin  \n",
       "500    1900-01-01 09:31:55.025794 1900-01-01 09:28:13  \n",
       "512    1900-01-01 09:38:21.904545 1900-01-01 09:36:33  \n",
       "734    1900-01-01 09:31:55.025794 1900-01-01 09:30:31  \n",
       "1823   1900-01-01 09:31:55.025794 1900-01-01 09:30:41  \n",
       "1914   1900-01-01 09:31:55.025794 1900-01-01 09:25:31  \n",
       "2295   1900-01-01 09:31:55.025794 1900-01-01 09:31:38  \n",
       "2976   1900-01-01 09:53:30.714286 1900-01-01 09:52:17  \n",
       "3199   1900-01-01 09:31:55.025794 1900-01-01 09:25:32  \n",
       "3694   1900-01-01 09:56:20.433333 1900-01-01 09:55:57  \n",
       "3965   1900-01-01 09:47:11.435407 1900-01-01 09:45:52  \n",
       "4829   1900-01-01 09:31:55.025794 1900-01-01 09:30:16  \n",
       "5121   1900-01-01 09:56:20.433333 1900-01-01 09:56:14  \n",
       "5230   1900-01-01 09:31:55.025794 1900-01-01 09:29:39  \n",
       "5575   1900-01-01 09:31:55.025794 1900-01-01 09:27:47  \n",
       "5617   1900-01-01 09:53:30.714286 1900-01-01 09:53:20  \n",
       "6524   1900-01-01 09:47:11.435407 1900-01-01 09:47:00  \n",
       "6952   1900-01-01 09:47:11.435407 1900-01-01 09:45:00  \n",
       "7313   1900-01-01 09:31:55.025794 1900-01-01 09:28:34  \n",
       "7575   1900-01-01 09:53:30.714286 1900-01-01 09:52:13  \n",
       "7619   1900-01-01 09:38:21.904545 1900-01-01 09:37:43  \n",
       "7800   1900-01-01 09:38:03.777778 1900-01-01 09:36:02  \n",
       "8632   1900-01-01 09:31:55.025794 1900-01-01 09:30:37  \n",
       "8894   1900-01-01 09:31:55.025794 1900-01-01 09:26:59  \n",
       "9244   1900-01-01 09:38:21.904545 1900-01-01 09:37:05  \n",
       "10320  1900-01-01 09:47:11.435407 1900-01-01 09:44:59  \n",
       "10381  1900-01-01 09:47:11.435407 1900-01-01 09:46:49  \n",
       "10600  1900-01-01 09:31:55.025794 1900-01-01 09:26:43  \n",
       "10769  1900-01-01 09:38:03.777778 1900-01-01 09:34:05  \n",
       "10871  1900-01-01 09:38:03.777778 1900-01-01 09:34:53  \n",
       "11046  1900-01-01 09:38:21.904545 1900-01-01 09:37:39  \n",
       "...                           ...                 ...  \n",
       "372885 1900-01-01 09:31:55.025794 1900-01-01 09:30:25  \n",
       "373086 1900-01-01 09:31:55.025794 1900-01-01 09:27:13  \n",
       "373292 1900-01-01 09:31:55.025794 1900-01-01 09:30:46  \n",
       "373895 1900-01-01 09:31:55.025794 1900-01-01 09:27:29  \n",
       "374043 1900-01-01 09:31:55.025794 1900-01-01 09:30:31  \n",
       "374214 1900-01-01 09:31:55.025794 1900-01-01 09:25:27  \n",
       "374513 1900-01-01 09:31:55.025794 1900-01-01 09:30:43  \n",
       "374676 1900-01-01 09:38:03.777778 1900-01-01 09:34:46  \n",
       "375113 1900-01-01 10:05:46.285714 1900-01-01 09:59:16  \n",
       "375475 1900-01-01 09:31:55.025794 1900-01-01 09:26:24  \n",
       "375757 1900-01-01 09:38:21.904545 1900-01-01 09:34:54  \n",
       "375971 1900-01-01 09:31:55.025794 1900-01-01 09:30:13  \n",
       "376456 1900-01-01 09:31:55.025794 1900-01-01 09:29:10  \n",
       "376656 1900-01-01 09:38:03.777778 1900-01-01 09:31:57  \n",
       "377293 1900-01-01 09:31:55.025794 1900-01-01 09:31:41  \n",
       "377437 1900-01-01 09:38:21.904545 1900-01-01 09:37:31  \n",
       "378124 1900-01-01 09:56:20.433333 1900-01-01 09:52:07  \n",
       "378232 1900-01-01 09:47:11.435407 1900-01-01 09:46:19  \n",
       "378409 1900-01-01 09:38:03.777778 1900-01-01 09:31:55  \n",
       "378751 1900-01-01 09:31:55.025794 1900-01-01 09:25:37  \n",
       "379117 1900-01-01 09:47:11.435407 1900-01-01 09:44:46  \n",
       "379184 1900-01-01 09:31:55.025794 1900-01-01 09:29:48  \n",
       "379237 1900-01-01 09:47:11.435407 1900-01-01 09:44:11  \n",
       "379298 1900-01-01 09:47:11.435407 1900-01-01 09:44:40  \n",
       "379398 1900-01-01 09:31:55.025794 1900-01-01 09:26:41  \n",
       "380036 1900-01-01 09:31:55.025794 1900-01-01 09:30:30  \n",
       "380246 1900-01-01 09:31:55.025794 1900-01-01 09:25:14  \n",
       "380846 1900-01-01 09:56:20.433333 1900-01-01 09:53:11  \n",
       "380960 1900-01-01 09:38:21.904545 1900-01-01 09:36:29  \n",
       "381118 1900-01-01 09:38:03.777778 1900-01-01 09:36:55  \n",
       "\n",
       "[1272 rows x 10 columns]"
      ]
     },
     "execution_count": 787,
     "metadata": {},
     "output_type": "execute_result"
    }
   ],
   "source": [
    "\n",
    "dfclean"
   ]
  },
  {
   "cell_type": "code",
   "execution_count": 788,
   "metadata": {
    "collapsed": true
   },
   "outputs": [],
   "source": [
    "# new traffic\n",
    "origindestinationtraffic = dfclean.groupby(['origin','destination']).count().timeperiod.reset_index().rename(columns={'timeperiod':'counttraffic'})\n"
   ]
  },
  {
   "cell_type": "code",
   "execution_count": 789,
   "metadata": {
    "collapsed": false
   },
   "outputs": [
    {
     "data": {
      "text/html": [
       "<div>\n",
       "<table border=\"1\" class=\"dataframe\">\n",
       "  <thead>\n",
       "    <tr style=\"text-align: right;\">\n",
       "      <th></th>\n",
       "      <th>origin</th>\n",
       "      <th>destination</th>\n",
       "      <th>counttraffic</th>\n",
       "    </tr>\n",
       "  </thead>\n",
       "  <tbody>\n",
       "    <tr>\n",
       "      <th>0</th>\n",
       "      <td>Botanic Gardens</td>\n",
       "      <td>Buona Vista</td>\n",
       "      <td>3</td>\n",
       "    </tr>\n",
       "    <tr>\n",
       "      <th>1</th>\n",
       "      <td>Botanic Gardens</td>\n",
       "      <td>Newton</td>\n",
       "      <td>6</td>\n",
       "    </tr>\n",
       "    <tr>\n",
       "      <th>2</th>\n",
       "      <td>Botanic Gardens</td>\n",
       "      <td>Yio Chu Kang</td>\n",
       "      <td>3</td>\n",
       "    </tr>\n",
       "    <tr>\n",
       "      <th>3</th>\n",
       "      <td>Botanic Gardens</td>\n",
       "      <td>one-north</td>\n",
       "      <td>3</td>\n",
       "    </tr>\n",
       "    <tr>\n",
       "      <th>4</th>\n",
       "      <td>Buona Vista</td>\n",
       "      <td>Aljunied</td>\n",
       "      <td>3</td>\n",
       "    </tr>\n",
       "  </tbody>\n",
       "</table>\n",
       "</div>"
      ],
      "text/plain": [
       "            origin   destination  counttraffic\n",
       "0  Botanic Gardens   Buona Vista             3\n",
       "1  Botanic Gardens        Newton             6\n",
       "2  Botanic Gardens  Yio Chu Kang             3\n",
       "3  Botanic Gardens     one-north             3\n",
       "4      Buona Vista      Aljunied             3"
      ]
     },
     "execution_count": 789,
     "metadata": {},
     "output_type": "execute_result"
    }
   ],
   "source": [
    "\n",
    "\n",
    "origindestinationtraffic.head()\n"
   ]
  },
  {
   "cell_type": "markdown",
   "metadata": {},
   "source": [
    "# Q3 Answer:"
   ]
  },
  {
   "cell_type": "code",
   "execution_count": 790,
   "metadata": {
    "collapsed": false,
    "scrolled": true
   },
   "outputs": [
    {
     "name": "stdout",
     "output_type": "stream",
     "text": [
      "from: Clementi,to Dover:210\n",
      "from: Dover,to Buona Vista:237\n",
      "from: Buona Vista,to Holland Village:225\n",
      "from: Holland Village,to Farrer Road:237\n",
      "from: Farrer Road,to Botanic Gardens:240\n",
      "from: Botanic Gardens,to Caldecott:237\n",
      "from: Caldecott,to Marymount:240\n",
      "from: Marymount,to Bishan:234\n",
      "from: Bishan,to Braddell:225\n",
      "from: Braddell,to Toa Payoh:222\n",
      "from: Toa Payoh,to Novena:219\n",
      "from: Novena,to Newton:210\n",
      "from: Newton,to Dhoby Ghaut:195\n",
      "from: Dhoby Ghaut,to Cheng Lim:186\n",
      "from: Cheng Lim,to Bugis:186\n",
      "from: Bugis,to Petir:153\n",
      "from: Petir,to Raffles Place:153\n",
      "from: Raffles Place,to Orchard:99\n",
      "from: Orchard,to Somerset:84\n",
      "from: Somerset,to City Hall:69\n",
      "from: City Hall,to Little India:33\n",
      "from: Little India,to Sam Kee:24\n",
      "from: Sam Kee,to Paya Lebar:24\n",
      "from: Paya Lebar,to South View:15\n",
      "from: South View,to Lavender:15\n",
      "from: Lavender,to Kallang:0\n",
      "240\n"
     ]
    }
   ],
   "source": [
    "print(demandsofchain(chains,globalnodea,globalnodeb))\n"
   ]
  },
  {
   "cell_type": "markdown",
   "metadata": {},
   "source": [
    "# END "
   ]
  }
 ],
 "metadata": {
  "kernelspec": {
   "display_name": "Python [conda root]",
   "language": "python",
   "name": "conda-root-py"
  },
  "language_info": {
   "codemirror_mode": {
    "name": "ipython",
    "version": 3
   },
   "file_extension": ".py",
   "mimetype": "text/x-python",
   "name": "python",
   "nbconvert_exporter": "python",
   "pygments_lexer": "ipython3",
   "version": "3.5.2"
  }
 },
 "nbformat": 4,
 "nbformat_minor": 1
}
